{
 "cells": [
  {
   "cell_type": "markdown",
   "metadata": {},
   "source": [
    "# Notify"
   ]
  },
  {
   "cell_type": "code",
   "execution_count": 287,
   "metadata": {},
   "outputs": [],
   "source": [
    "import pandas as pd\n",
    "import matplotlib\n",
    "import pprint\n",
    "import matplotlib.pyplot as plt\n",
    "import matplotlib.patches as patches\n",
    "import math"
   ]
  },
  {
   "cell_type": "code",
   "execution_count": 288,
   "metadata": {},
   "outputs": [],
   "source": [
    "def format_table_text(latex_text):\n",
    "    new_str = latex_text \n",
    "    new_str = new_str.replace(\"data\\_size\",\"data\")\n",
    "    new_str = new_str.replace(\"data_size\",\"data\")\n",
    "    new_str = new_str.replace(\"data\",\"Data [Byte]\")\n",
    "    new_str = new_str.replace(\"duration\",\"Duration [µs]\")\n",
    "    new_str = new_str.replace(\"mtu_size\",\"mtu.\")\n",
    "    new_str = new_str.replace(\"mtu\\_size\",\"mtu.\")\n",
    "    new_str = new_str.replace(\"mtu.\",\"MTU [Byte]\")\n",
    "    new_str = new_str.replace(\"pakets\",\"Pakets\")\n",
    "    new_str = new_str.replace(\"type\",\"Record-Mode\")\n",
    "    new_str = new_str.replace(\"request_type\",\"Transfer-Approach\")\n",
    "    new_str = new_str.replace(\"conn_interval\",\"ci.\")    \n",
    "    new_str = new_str.replace(\"conn\\_interval\",\"ci.\")    \n",
    "    new_str = new_str.replace(\"Connection-Interval\",\"ci.\")    \n",
    "    new_str = new_str.replace(\"ci.\",\"Connection-Interval-Length [ms]\")\n",
    "    return new_str\n"
   ]
  },
  {
   "cell_type": "code",
   "execution_count": 289,
   "metadata": {
    "scrolled": true
   },
   "outputs": [
    {
     "name": "stdout",
     "output_type": "stream",
     "text": [
      "Index(['request_type', 'starting_time', 'ending_time', 'duration', 'data_size',\n",
      "       'mtu_size', 'conn_interval', 'data', 'read_requests', 'read_responses',\n",
      "       'notifies', 'type'],\n",
      "      dtype='object')\n"
     ]
    }
   ],
   "source": [
    "df_hci = pd.read_csv(\"HCI_Output.csv\").drop(\"Unnamed: 0\",axis=1)\n",
    "#df_ota = pd.read_csv(\"OTA_Output.csv\").drop(\"Unnamed: 0\",axis=1)\n",
    "\n",
    "df_hci['type'] = ['HCI']*len(df_hci.index.values)\n",
    "#df_ota['type'] = ['OTA']*len(df_ota.index.values)\n",
    "\n",
    "#print(df_hci.shape,df_ota.shape)\n",
    "#df_all = df_hci.append(df_ota)\n",
    "df_all = df_hci\n",
    "df_all.sort_values(\"starting_time\")\n",
    "print(df_all.columns)\n",
    "df_all.drop([\"data\"],inplace=True,axis=1)\n",
    "\n",
    "request_naming = dict({\"WRITE_COMMAND Req\":\"NOTIFY-Approach\",\"WRITE_COMMAND Rcvd\":\"NOTIFY-Approach\",\"READ Req\":\"READ-Approach\"})\n",
    "df_all.replace(request_naming,inplace=True)"
   ]
  },
  {
   "cell_type": "code",
   "execution_count": 290,
   "metadata": {},
   "outputs": [],
   "source": [
    "def create_str(length):\n",
    "    standardOutput = \"Data Size \" + str(length)\n",
    "    content = \"\"\n",
    "    i = len(standardOutput)\n",
    "    while i < length:\n",
    "        content += chr(97+(i%26))\n",
    "        i+=1\n",
    "    return standardOutput+content"
   ]
  },
  {
   "cell_type": "markdown",
   "metadata": {},
   "source": [
    "### Value column does not contain all chars of string => can't check validity by data"
   ]
  },
  {
   "cell_type": "code",
   "execution_count": 291,
   "metadata": {},
   "outputs": [],
   "source": [
    "\n",
    "#df_all['expected_data'] = df_all['data_size'].apply(create_str)\n",
    "#df_all['is_complete'] = df_all['expected_data'] == df_all['data']\n",
    "#df_all = df_all[df_all['is_complete']]\n",
    "#df_all.drop([\"data\",\"is_complete\",\"expected_data\"],inplace=True,axis=1)\n",
    "#df_all.groupby([\"data_size\",\"mtu_size\",\"conn_interval\",\"request_type\",\"type\"]).count()"
   ]
  },
  {
   "cell_type": "code",
   "execution_count": 292,
   "metadata": {
    "scrolled": true
   },
   "outputs": [],
   "source": [
    "#pd.set_option('display.max_rows', df_all.shape[0]+1)\n",
    "#df_all[[\"type\",\"request_type\",\"data\",\"expected_data\",\"is_complete\"]]"
   ]
  },
  {
   "cell_type": "code",
   "execution_count": 293,
   "metadata": {},
   "outputs": [
    {
     "name": "stdout",
     "output_type": "stream",
     "text": [
      "{32, 256, 64, 128, 33, 35, 65, 67, 129, 131, 23, 25}\n"
     ]
    }
   ],
   "source": [
    "pprint.pprint(set(list(df_all['mtu_size'].values)))"
   ]
  },
  {
   "cell_type": "code",
   "execution_count": 294,
   "metadata": {},
   "outputs": [],
   "source": [
    "df_all = df_all[df_all['request_type'].str.contains(\"NOTIFY\")]\n"
   ]
  },
  {
   "cell_type": "code",
   "execution_count": 295,
   "metadata": {},
   "outputs": [
    {
     "name": "stdout",
     "output_type": "stream",
     "text": [
      "invalid records:\n",
      "Empty DataFrame\n",
      "Columns: [request_type, starting_time, ending_time, duration, data_size, mtu_size, conn_interval, read_requests, read_responses, notifies, type, expected_receiving_pakets, is_valid]\n",
      "Index: []\n"
     ]
    },
    {
     "name": "stderr",
     "output_type": "stream",
     "text": [
      "<ipython-input-295-58acb30de07e>:11: SettingWithCopyWarning: \n",
      "A value is trying to be set on a copy of a slice from a DataFrame.\n",
      "Try using .loc[row_indexer,col_indexer] = value instead\n",
      "\n",
      "See the caveats in the documentation: https://pandas.pydata.org/pandas-docs/stable/user_guide/indexing.html#returning-a-view-versus-a-copy\n",
      "  df_all['expected_receiving_pakets'] = df_all.apply(calc_rec_pakets,axis=1)\n",
      "<ipython-input-295-58acb30de07e>:12: SettingWithCopyWarning: \n",
      "A value is trying to be set on a copy of a slice from a DataFrame.\n",
      "Try using .loc[row_indexer,col_indexer] = value instead\n",
      "\n",
      "See the caveats in the documentation: https://pandas.pydata.org/pandas-docs/stable/user_guide/indexing.html#returning-a-view-versus-a-copy\n",
      "  df_all['is_valid'] = df_all.apply(check_valid,axis=1)\n"
     ]
    },
    {
     "data": {
      "text/html": [
       "<div>\n",
       "<style scoped>\n",
       "    .dataframe tbody tr th:only-of-type {\n",
       "        vertical-align: middle;\n",
       "    }\n",
       "\n",
       "    .dataframe tbody tr th {\n",
       "        vertical-align: top;\n",
       "    }\n",
       "\n",
       "    .dataframe thead th {\n",
       "        text-align: right;\n",
       "    }\n",
       "</style>\n",
       "<table border=\"1\" class=\"dataframe\">\n",
       "  <thead>\n",
       "    <tr style=\"text-align: right;\">\n",
       "      <th></th>\n",
       "      <th>request_type</th>\n",
       "      <th>starting_time</th>\n",
       "      <th>ending_time</th>\n",
       "      <th>duration</th>\n",
       "      <th>data_size</th>\n",
       "      <th>mtu_size</th>\n",
       "      <th>conn_interval</th>\n",
       "      <th>read_requests</th>\n",
       "      <th>read_responses</th>\n",
       "      <th>notifies</th>\n",
       "      <th>type</th>\n",
       "      <th>expected_receiving_pakets</th>\n",
       "      <th>is_valid</th>\n",
       "    </tr>\n",
       "  </thead>\n",
       "  <tbody>\n",
       "    <tr>\n",
       "      <th>0</th>\n",
       "      <td>NOTIFY-Approach</td>\n",
       "      <td>2021-06-07 13:08:41.922114</td>\n",
       "      <td>2021-06-07 13:08:41.978780</td>\n",
       "      <td>56666</td>\n",
       "      <td>20</td>\n",
       "      <td>23</td>\n",
       "      <td>36</td>\n",
       "      <td>0</td>\n",
       "      <td>0</td>\n",
       "      <td>1</td>\n",
       "      <td>HCI</td>\n",
       "      <td>1</td>\n",
       "      <td>True</td>\n",
       "    </tr>\n",
       "    <tr>\n",
       "      <th>1</th>\n",
       "      <td>NOTIFY-Approach</td>\n",
       "      <td>2021-06-07 13:08:42.861066</td>\n",
       "      <td>2021-06-07 13:08:42.923585</td>\n",
       "      <td>62519</td>\n",
       "      <td>20</td>\n",
       "      <td>23</td>\n",
       "      <td>36</td>\n",
       "      <td>0</td>\n",
       "      <td>0</td>\n",
       "      <td>1</td>\n",
       "      <td>HCI</td>\n",
       "      <td>1</td>\n",
       "      <td>True</td>\n",
       "    </tr>\n",
       "    <tr>\n",
       "      <th>2</th>\n",
       "      <td>NOTIFY-Approach</td>\n",
       "      <td>2021-06-07 13:08:43.548844</td>\n",
       "      <td>2021-06-07 13:08:43.599698</td>\n",
       "      <td>50854</td>\n",
       "      <td>20</td>\n",
       "      <td>23</td>\n",
       "      <td>36</td>\n",
       "      <td>0</td>\n",
       "      <td>0</td>\n",
       "      <td>1</td>\n",
       "      <td>HCI</td>\n",
       "      <td>1</td>\n",
       "      <td>True</td>\n",
       "    </tr>\n",
       "    <tr>\n",
       "      <th>3</th>\n",
       "      <td>NOTIFY-Approach</td>\n",
       "      <td>2021-06-07 13:08:49.032790</td>\n",
       "      <td>2021-06-07 13:08:49.092883</td>\n",
       "      <td>60093</td>\n",
       "      <td>32</td>\n",
       "      <td>23</td>\n",
       "      <td>36</td>\n",
       "      <td>0</td>\n",
       "      <td>0</td>\n",
       "      <td>2</td>\n",
       "      <td>HCI</td>\n",
       "      <td>2</td>\n",
       "      <td>True</td>\n",
       "    </tr>\n",
       "    <tr>\n",
       "      <th>4</th>\n",
       "      <td>NOTIFY-Approach</td>\n",
       "      <td>2021-06-07 13:08:49.886659</td>\n",
       "      <td>2021-06-07 13:08:49.944569</td>\n",
       "      <td>57910</td>\n",
       "      <td>32</td>\n",
       "      <td>23</td>\n",
       "      <td>36</td>\n",
       "      <td>0</td>\n",
       "      <td>0</td>\n",
       "      <td>2</td>\n",
       "      <td>HCI</td>\n",
       "      <td>2</td>\n",
       "      <td>True</td>\n",
       "    </tr>\n",
       "    <tr>\n",
       "      <th>...</th>\n",
       "      <td>...</td>\n",
       "      <td>...</td>\n",
       "      <td>...</td>\n",
       "      <td>...</td>\n",
       "      <td>...</td>\n",
       "      <td>...</td>\n",
       "      <td>...</td>\n",
       "      <td>...</td>\n",
       "      <td>...</td>\n",
       "      <td>...</td>\n",
       "      <td>...</td>\n",
       "      <td>...</td>\n",
       "      <td>...</td>\n",
       "    </tr>\n",
       "    <tr>\n",
       "      <th>345</th>\n",
       "      <td>NOTIFY-Approach</td>\n",
       "      <td>2021-06-08 17:23:58.711029</td>\n",
       "      <td>2021-06-08 17:24:00.323823</td>\n",
       "      <td>1612794</td>\n",
       "      <td>512</td>\n",
       "      <td>35</td>\n",
       "      <td>512</td>\n",
       "      <td>0</td>\n",
       "      <td>0</td>\n",
       "      <td>16</td>\n",
       "      <td>HCI</td>\n",
       "      <td>16</td>\n",
       "      <td>True</td>\n",
       "    </tr>\n",
       "    <tr>\n",
       "      <th>346</th>\n",
       "      <td>NOTIFY-Approach</td>\n",
       "      <td>2021-06-08 17:24:05.156119</td>\n",
       "      <td>2021-06-08 17:24:06.723282</td>\n",
       "      <td>1567163</td>\n",
       "      <td>512</td>\n",
       "      <td>35</td>\n",
       "      <td>512</td>\n",
       "      <td>0</td>\n",
       "      <td>0</td>\n",
       "      <td>16</td>\n",
       "      <td>HCI</td>\n",
       "      <td>16</td>\n",
       "      <td>True</td>\n",
       "    </tr>\n",
       "    <tr>\n",
       "      <th>347</th>\n",
       "      <td>NOTIFY-Approach</td>\n",
       "      <td>2021-06-08 17:24:18.390646</td>\n",
       "      <td>2021-06-08 17:24:20.803306</td>\n",
       "      <td>2412660</td>\n",
       "      <td>512</td>\n",
       "      <td>35</td>\n",
       "      <td>1024</td>\n",
       "      <td>0</td>\n",
       "      <td>0</td>\n",
       "      <td>16</td>\n",
       "      <td>HCI</td>\n",
       "      <td>16</td>\n",
       "      <td>True</td>\n",
       "    </tr>\n",
       "    <tr>\n",
       "      <th>348</th>\n",
       "      <td>NOTIFY-Approach</td>\n",
       "      <td>2021-06-08 17:24:24.790730</td>\n",
       "      <td>2021-06-08 17:24:29.763601</td>\n",
       "      <td>4972871</td>\n",
       "      <td>512</td>\n",
       "      <td>35</td>\n",
       "      <td>1024</td>\n",
       "      <td>0</td>\n",
       "      <td>0</td>\n",
       "      <td>16</td>\n",
       "      <td>HCI</td>\n",
       "      <td>16</td>\n",
       "      <td>True</td>\n",
       "    </tr>\n",
       "    <tr>\n",
       "      <th>349</th>\n",
       "      <td>NOTIFY-Approach</td>\n",
       "      <td>2021-06-08 17:24:31.292467</td>\n",
       "      <td>2021-06-08 17:24:34.883450</td>\n",
       "      <td>3590983</td>\n",
       "      <td>512</td>\n",
       "      <td>35</td>\n",
       "      <td>1024</td>\n",
       "      <td>0</td>\n",
       "      <td>0</td>\n",
       "      <td>16</td>\n",
       "      <td>HCI</td>\n",
       "      <td>16</td>\n",
       "      <td>True</td>\n",
       "    </tr>\n",
       "  </tbody>\n",
       "</table>\n",
       "<p>350 rows × 13 columns</p>\n",
       "</div>"
      ],
      "text/plain": [
       "        request_type               starting_time                 ending_time  \\\n",
       "0    NOTIFY-Approach  2021-06-07 13:08:41.922114  2021-06-07 13:08:41.978780   \n",
       "1    NOTIFY-Approach  2021-06-07 13:08:42.861066  2021-06-07 13:08:42.923585   \n",
       "2    NOTIFY-Approach  2021-06-07 13:08:43.548844  2021-06-07 13:08:43.599698   \n",
       "3    NOTIFY-Approach  2021-06-07 13:08:49.032790  2021-06-07 13:08:49.092883   \n",
       "4    NOTIFY-Approach  2021-06-07 13:08:49.886659  2021-06-07 13:08:49.944569   \n",
       "..               ...                         ...                         ...   \n",
       "345  NOTIFY-Approach  2021-06-08 17:23:58.711029  2021-06-08 17:24:00.323823   \n",
       "346  NOTIFY-Approach  2021-06-08 17:24:05.156119  2021-06-08 17:24:06.723282   \n",
       "347  NOTIFY-Approach  2021-06-08 17:24:18.390646  2021-06-08 17:24:20.803306   \n",
       "348  NOTIFY-Approach  2021-06-08 17:24:24.790730  2021-06-08 17:24:29.763601   \n",
       "349  NOTIFY-Approach  2021-06-08 17:24:31.292467  2021-06-08 17:24:34.883450   \n",
       "\n",
       "     duration  data_size  mtu_size  conn_interval  read_requests  \\\n",
       "0       56666         20        23             36              0   \n",
       "1       62519         20        23             36              0   \n",
       "2       50854         20        23             36              0   \n",
       "3       60093         32        23             36              0   \n",
       "4       57910         32        23             36              0   \n",
       "..        ...        ...       ...            ...            ...   \n",
       "345   1612794        512        35            512              0   \n",
       "346   1567163        512        35            512              0   \n",
       "347   2412660        512        35           1024              0   \n",
       "348   4972871        512        35           1024              0   \n",
       "349   3590983        512        35           1024              0   \n",
       "\n",
       "     read_responses  notifies type  expected_receiving_pakets  is_valid  \n",
       "0                 0         1  HCI                          1      True  \n",
       "1                 0         1  HCI                          1      True  \n",
       "2                 0         1  HCI                          1      True  \n",
       "3                 0         2  HCI                          2      True  \n",
       "4                 0         2  HCI                          2      True  \n",
       "..              ...       ...  ...                        ...       ...  \n",
       "345               0        16  HCI                         16      True  \n",
       "346               0        16  HCI                         16      True  \n",
       "347               0        16  HCI                         16      True  \n",
       "348               0        16  HCI                         16      True  \n",
       "349               0        16  HCI                         16      True  \n",
       "\n",
       "[350 rows x 13 columns]"
      ]
     },
     "execution_count": 295,
     "metadata": {},
     "output_type": "execute_result"
    }
   ],
   "source": [
    "def calc_rec_pakets(row):\n",
    "    overhead = 1 \n",
    "    if \"NOTIFY\" in row['request_type']:\n",
    "        overhead = 3\n",
    "    return math.ceil(row[\"data_size\"]/(row[\"mtu_size\"]-overhead))\n",
    "def check_valid(row):\n",
    "    if \"NOTIFY\" in row['request_type']:\n",
    "        return row[\"notifies\"] >= row['expected_receiving_pakets'] and row[\"notifies\"] < 2+ row['expected_receiving_pakets']\n",
    "    else:\n",
    "        return row[\"read_responses\"] >= row['expected_receiving_pakets'] and row[\"read_responses\"] < 2+row['expected_receiving_pakets']\n",
    "df_all['expected_receiving_pakets'] = df_all.apply(calc_rec_pakets,axis=1)\n",
    "df_all['is_valid'] = df_all.apply(check_valid,axis=1)\n",
    "print(\"invalid records:\")\n",
    "pprint.pprint(df_all[~df_all['is_valid']])\n",
    "df_all"
   ]
  },
  {
   "cell_type": "code",
   "execution_count": 296,
   "metadata": {},
   "outputs": [],
   "source": [
    "df_all = df_all[df_all['is_valid']]\n",
    "df_all.drop([\"read_requests\",\"read_responses\",\"expected_receiving_pakets\",\"is_valid\"],inplace=True,axis=1)\n",
    "df_all.rename(dict({\"notifies\":\"pakets\"}),axis=1,inplace=True)\n",
    "df_all['conn_interval'] = df_all['conn_interval'].apply(lambda x:x*1.25)"
   ]
  },
  {
   "cell_type": "code",
   "execution_count": 297,
   "metadata": {},
   "outputs": [
    {
     "name": "stdout",
     "output_type": "stream",
     "text": [
      "save following table:\n"
     ]
    },
    {
     "data": {
      "text/html": [
       "<div>\n",
       "<style scoped>\n",
       "    .dataframe tbody tr th:only-of-type {\n",
       "        vertical-align: middle;\n",
       "    }\n",
       "\n",
       "    .dataframe tbody tr th {\n",
       "        vertical-align: top;\n",
       "    }\n",
       "\n",
       "    .dataframe thead th {\n",
       "        text-align: right;\n",
       "    }\n",
       "</style>\n",
       "<table border=\"1\" class=\"dataframe\">\n",
       "  <thead>\n",
       "    <tr style=\"text-align: right;\">\n",
       "      <th></th>\n",
       "      <th>duration</th>\n",
       "      <th>data_size</th>\n",
       "      <th>mtu_size</th>\n",
       "      <th>conn_interval</th>\n",
       "      <th>pakets</th>\n",
       "      <th>type</th>\n",
       "    </tr>\n",
       "  </thead>\n",
       "  <tbody>\n",
       "    <tr>\n",
       "      <th>0</th>\n",
       "      <td>56666</td>\n",
       "      <td>20</td>\n",
       "      <td>23</td>\n",
       "      <td>45.0</td>\n",
       "      <td>1</td>\n",
       "      <td>HCI</td>\n",
       "    </tr>\n",
       "    <tr>\n",
       "      <th>1</th>\n",
       "      <td>62519</td>\n",
       "      <td>20</td>\n",
       "      <td>23</td>\n",
       "      <td>45.0</td>\n",
       "      <td>1</td>\n",
       "      <td>HCI</td>\n",
       "    </tr>\n",
       "    <tr>\n",
       "      <th>2</th>\n",
       "      <td>50854</td>\n",
       "      <td>20</td>\n",
       "      <td>23</td>\n",
       "      <td>45.0</td>\n",
       "      <td>1</td>\n",
       "      <td>HCI</td>\n",
       "    </tr>\n",
       "    <tr>\n",
       "      <th>3</th>\n",
       "      <td>60093</td>\n",
       "      <td>32</td>\n",
       "      <td>23</td>\n",
       "      <td>45.0</td>\n",
       "      <td>2</td>\n",
       "      <td>HCI</td>\n",
       "    </tr>\n",
       "    <tr>\n",
       "      <th>4</th>\n",
       "      <td>57910</td>\n",
       "      <td>32</td>\n",
       "      <td>23</td>\n",
       "      <td>45.0</td>\n",
       "      <td>2</td>\n",
       "      <td>HCI</td>\n",
       "    </tr>\n",
       "    <tr>\n",
       "      <th>...</th>\n",
       "      <td>...</td>\n",
       "      <td>...</td>\n",
       "      <td>...</td>\n",
       "      <td>...</td>\n",
       "      <td>...</td>\n",
       "      <td>...</td>\n",
       "    </tr>\n",
       "    <tr>\n",
       "      <th>345</th>\n",
       "      <td>1612794</td>\n",
       "      <td>512</td>\n",
       "      <td>35</td>\n",
       "      <td>640.0</td>\n",
       "      <td>16</td>\n",
       "      <td>HCI</td>\n",
       "    </tr>\n",
       "    <tr>\n",
       "      <th>346</th>\n",
       "      <td>1567163</td>\n",
       "      <td>512</td>\n",
       "      <td>35</td>\n",
       "      <td>640.0</td>\n",
       "      <td>16</td>\n",
       "      <td>HCI</td>\n",
       "    </tr>\n",
       "    <tr>\n",
       "      <th>347</th>\n",
       "      <td>2412660</td>\n",
       "      <td>512</td>\n",
       "      <td>35</td>\n",
       "      <td>1280.0</td>\n",
       "      <td>16</td>\n",
       "      <td>HCI</td>\n",
       "    </tr>\n",
       "    <tr>\n",
       "      <th>348</th>\n",
       "      <td>4972871</td>\n",
       "      <td>512</td>\n",
       "      <td>35</td>\n",
       "      <td>1280.0</td>\n",
       "      <td>16</td>\n",
       "      <td>HCI</td>\n",
       "    </tr>\n",
       "    <tr>\n",
       "      <th>349</th>\n",
       "      <td>3590983</td>\n",
       "      <td>512</td>\n",
       "      <td>35</td>\n",
       "      <td>1280.0</td>\n",
       "      <td>16</td>\n",
       "      <td>HCI</td>\n",
       "    </tr>\n",
       "  </tbody>\n",
       "</table>\n",
       "<p>350 rows × 6 columns</p>\n",
       "</div>"
      ],
      "text/plain": [
       "     duration  data_size  mtu_size  conn_interval  pakets type\n",
       "0       56666         20        23           45.0       1  HCI\n",
       "1       62519         20        23           45.0       1  HCI\n",
       "2       50854         20        23           45.0       1  HCI\n",
       "3       60093         32        23           45.0       2  HCI\n",
       "4       57910         32        23           45.0       2  HCI\n",
       "..        ...        ...       ...            ...     ...  ...\n",
       "345   1612794        512        35          640.0      16  HCI\n",
       "346   1567163        512        35          640.0      16  HCI\n",
       "347   2412660        512        35         1280.0      16  HCI\n",
       "348   4972871        512        35         1280.0      16  HCI\n",
       "349   3590983        512        35         1280.0      16  HCI\n",
       "\n",
       "[350 rows x 6 columns]"
      ]
     },
     "execution_count": 297,
     "metadata": {},
     "output_type": "execute_result"
    }
   ],
   "source": [
    "text = df_all.drop([\"request_type\",\"starting_time\",\"ending_time\"],axis=1).to_latex(label=\"table:notifyallvalues\",caption=\"Alle Messwerte des Notify-Ansatz\",longtable=True)\n",
    "text = format_table_text(text)\n",
    "with open(\"outputs/all_notify_values.tex\", \"w\") as text_file:\n",
    "    text_file.write(text)\n",
    "\n",
    "print(\"save following table:\")\n",
    "df_all.drop([\"request_type\",\"starting_time\",\"ending_time\"],axis=1)"
   ]
  },
  {
   "cell_type": "code",
   "execution_count": 298,
   "metadata": {},
   "outputs": [],
   "source": [
    "all_aggregated = df_all.drop([\"starting_time\",\"ending_time\"],axis=1).groupby([\"mtu_size\",\"data_size\",\"conn_interval\"]).aggregate([\"std\",\"median\",\"mean\",\"min\",\"max\"])"
   ]
  },
  {
   "cell_type": "markdown",
   "metadata": {},
   "source": [
    "## df_mtu"
   ]
  },
  {
   "cell_type": "code",
   "execution_count": 299,
   "metadata": {},
   "outputs": [],
   "source": [
    "df_mtu_mtu_values = [23,25,32,33,35,64,65,67,128,129,131,256]\n",
    "df_mtu_data_size_values = [128]\n",
    "df_mtu_conn_interval_values = [64]\n",
    "df_mtu_conn_interval_values = [1.25 * x for x in df_mtu_conn_interval_values]\n",
    "df_mtu = df_all[df_all['mtu_size'].apply(lambda x: x in df_mtu_mtu_values)]\n",
    "df_mtu = df_mtu[df_mtu['data_size'].apply(lambda x:x in df_mtu_data_size_values)]\n",
    "df_mtu = df_mtu[df_mtu['conn_interval'].apply(lambda x:x in df_mtu_conn_interval_values)]"
   ]
  },
  {
   "cell_type": "markdown",
   "metadata": {},
   "source": [
    "## df_interval"
   ]
  },
  {
   "cell_type": "code",
   "execution_count": 300,
   "metadata": {},
   "outputs": [],
   "source": [
    "df_interval_mtu_values = [35]\n",
    "df_interval_data_size_values = [128,512]\n",
    "df_interval_conn_interval_values = [36,64,128,256,512,1024]\n",
    "df_interval_conn_interval_values  = [1.25 * x for x in df_interval_conn_interval_values ]\n",
    "df_interval = df_all[df_all['mtu_size'].apply(lambda x: x in df_interval_mtu_values)]\n",
    "df_interval = df_interval[df_interval['data_size'].apply(lambda x:x in df_interval_data_size_values)]\n",
    "df_interval = df_interval[df_interval['conn_interval'].apply(lambda x:x in df_interval_conn_interval_values)]"
   ]
  },
  {
   "cell_type": "markdown",
   "metadata": {},
   "source": [
    "## MTU"
   ]
  },
  {
   "cell_type": "markdown",
   "metadata": {},
   "source": [
    "#### Estimation"
   ]
  },
  {
   "cell_type": "code",
   "execution_count": 301,
   "metadata": {},
   "outputs": [
    {
     "data": {
      "text/html": [
       "<div>\n",
       "<style scoped>\n",
       "    .dataframe tbody tr th:only-of-type {\n",
       "        vertical-align: middle;\n",
       "    }\n",
       "\n",
       "    .dataframe tbody tr th {\n",
       "        vertical-align: top;\n",
       "    }\n",
       "\n",
       "    .dataframe thead th {\n",
       "        text-align: right;\n",
       "    }\n",
       "</style>\n",
       "<table border=\"1\" class=\"dataframe\">\n",
       "  <thead>\n",
       "    <tr style=\"text-align: right;\">\n",
       "      <th>MTU</th>\n",
       "      <th>23</th>\n",
       "      <th>25</th>\n",
       "      <th>32</th>\n",
       "      <th>33</th>\n",
       "      <th>35</th>\n",
       "      <th>64</th>\n",
       "      <th>65</th>\n",
       "      <th>67</th>\n",
       "      <th>128</th>\n",
       "      <th>129</th>\n",
       "      <th>131</th>\n",
       "      <th>256</th>\n",
       "    </tr>\n",
       "  </thead>\n",
       "  <tbody>\n",
       "    <tr>\n",
       "      <th>Antwort Pakete nach Formel</th>\n",
       "      <td>7</td>\n",
       "      <td>6</td>\n",
       "      <td>5</td>\n",
       "      <td>5</td>\n",
       "      <td>4</td>\n",
       "      <td>3</td>\n",
       "      <td>3</td>\n",
       "      <td>2</td>\n",
       "      <td>2</td>\n",
       "      <td>2</td>\n",
       "      <td>1</td>\n",
       "      <td>1</td>\n",
       "    </tr>\n",
       "  </tbody>\n",
       "</table>\n",
       "</div>"
      ],
      "text/plain": [
       "MTU                         23   25   32   33   35   64   65   67   128  129  \\\n",
       "Antwort Pakete nach Formel    7    6    5    5    4    3    3    2    2    2   \n",
       "\n",
       "MTU                         131  256  \n",
       "Antwort Pakete nach Formel    1    1  "
      ]
     },
     "execution_count": 301,
     "metadata": {},
     "output_type": "execute_result"
    }
   ],
   "source": [
    "def paket_func(data_size,mtu_size):\n",
    "    return math.ceil(data_size/(mtu_size-3))\n",
    "df = pd.DataFrame()\n",
    "df[\"MTU\"] = df_mtu_mtu_values\n",
    "df[\"Antwort Pakete nach Formel\"] = df['MTU'].apply(lambda x:paket_func(128,x))\n",
    "estimated_df = df.set_index(\"MTU\").T\n",
    "text = estimated_df.to_latex(label=\"table:estimatednotifypakets\",caption=\"Erwartete Auswirkung der MTU Änderung Notify\")\n",
    "text = format_table_text(text)\n",
    "with open(\"outputs/estimated_notify_mtu_change.tex\", \"w\") as text_file:\n",
    "    text_file.write(text)\n",
    "estimated_df"
   ]
  },
  {
   "cell_type": "code",
   "execution_count": 302,
   "metadata": {},
   "outputs": [
    {
     "data": {
      "text/html": [
       "<div>\n",
       "<style scoped>\n",
       "    .dataframe tbody tr th:only-of-type {\n",
       "        vertical-align: middle;\n",
       "    }\n",
       "\n",
       "    .dataframe tbody tr th {\n",
       "        vertical-align: top;\n",
       "    }\n",
       "\n",
       "    .dataframe thead tr th {\n",
       "        text-align: left;\n",
       "    }\n",
       "\n",
       "    .dataframe thead tr:last-of-type th {\n",
       "        text-align: right;\n",
       "    }\n",
       "</style>\n",
       "<table border=\"1\" class=\"dataframe\">\n",
       "  <thead>\n",
       "    <tr>\n",
       "      <th></th>\n",
       "      <th colspan=\"2\" halign=\"left\">mtu</th>\n",
       "    </tr>\n",
       "    <tr>\n",
       "      <th></th>\n",
       "      <th>min</th>\n",
       "      <th>max</th>\n",
       "    </tr>\n",
       "    <tr>\n",
       "      <th>needed_pakets</th>\n",
       "      <th></th>\n",
       "      <th></th>\n",
       "    </tr>\n",
       "  </thead>\n",
       "  <tbody>\n",
       "    <tr>\n",
       "      <th>1</th>\n",
       "      <td>131</td>\n",
       "      <td>255</td>\n",
       "    </tr>\n",
       "    <tr>\n",
       "      <th>2</th>\n",
       "      <td>67</td>\n",
       "      <td>130</td>\n",
       "    </tr>\n",
       "    <tr>\n",
       "      <th>3</th>\n",
       "      <td>46</td>\n",
       "      <td>66</td>\n",
       "    </tr>\n",
       "    <tr>\n",
       "      <th>4</th>\n",
       "      <td>35</td>\n",
       "      <td>45</td>\n",
       "    </tr>\n",
       "    <tr>\n",
       "      <th>5</th>\n",
       "      <td>29</td>\n",
       "      <td>34</td>\n",
       "    </tr>\n",
       "    <tr>\n",
       "      <th>6</th>\n",
       "      <td>25</td>\n",
       "      <td>28</td>\n",
       "    </tr>\n",
       "    <tr>\n",
       "      <th>7</th>\n",
       "      <td>23</td>\n",
       "      <td>24</td>\n",
       "    </tr>\n",
       "  </tbody>\n",
       "</table>\n",
       "</div>"
      ],
      "text/plain": [
       "               mtu     \n",
       "               min  max\n",
       "needed_pakets          \n",
       "1              131  255\n",
       "2               67  130\n",
       "3               46   66\n",
       "4               35   45\n",
       "5               29   34\n",
       "6               25   28\n",
       "7               23   24"
      ]
     },
     "execution_count": 302,
     "metadata": {},
     "output_type": "execute_result"
    }
   ],
   "source": [
    "\n",
    "df = pd.DataFrame()\n",
    "df[\"mtu\"] = range(23,256)\n",
    "df[\"needed_pakets\"] = df['mtu'].apply(lambda x:paket_func(128,x))\n",
    "pd.set_option('display.max_rows', df.shape[0])\n",
    "df.groupby(\"needed_pakets\").agg([\"min\",\"max\"])\n"
   ]
  },
  {
   "cell_type": "code",
   "execution_count": 303,
   "metadata": {},
   "outputs": [
    {
     "data": {
      "text/html": [
       "<div>\n",
       "<style scoped>\n",
       "    .dataframe tbody tr th:only-of-type {\n",
       "        vertical-align: middle;\n",
       "    }\n",
       "\n",
       "    .dataframe tbody tr th {\n",
       "        vertical-align: top;\n",
       "    }\n",
       "\n",
       "    .dataframe thead th {\n",
       "        text-align: right;\n",
       "    }\n",
       "</style>\n",
       "<table border=\"1\" class=\"dataframe\">\n",
       "  <thead>\n",
       "    <tr style=\"text-align: right;\">\n",
       "      <th></th>\n",
       "      <th>mtu_size</th>\n",
       "      <th>duration</th>\n",
       "      <th>pakets</th>\n",
       "    </tr>\n",
       "  </thead>\n",
       "  <tbody>\n",
       "    <tr>\n",
       "      <th>0</th>\n",
       "      <td>23</td>\n",
       "      <td>90618</td>\n",
       "      <td>7</td>\n",
       "    </tr>\n",
       "    <tr>\n",
       "      <th>1</th>\n",
       "      <td>25</td>\n",
       "      <td>100688</td>\n",
       "      <td>6</td>\n",
       "    </tr>\n",
       "    <tr>\n",
       "      <th>2</th>\n",
       "      <td>32</td>\n",
       "      <td>94547</td>\n",
       "      <td>5</td>\n",
       "    </tr>\n",
       "    <tr>\n",
       "      <th>3</th>\n",
       "      <td>33</td>\n",
       "      <td>87247</td>\n",
       "      <td>5</td>\n",
       "    </tr>\n",
       "    <tr>\n",
       "      <th>4</th>\n",
       "      <td>35</td>\n",
       "      <td>94075</td>\n",
       "      <td>4</td>\n",
       "    </tr>\n",
       "    <tr>\n",
       "      <th>5</th>\n",
       "      <td>64</td>\n",
       "      <td>103956</td>\n",
       "      <td>3</td>\n",
       "    </tr>\n",
       "    <tr>\n",
       "      <th>6</th>\n",
       "      <td>65</td>\n",
       "      <td>107174</td>\n",
       "      <td>3</td>\n",
       "    </tr>\n",
       "    <tr>\n",
       "      <th>7</th>\n",
       "      <td>67</td>\n",
       "      <td>113065</td>\n",
       "      <td>2</td>\n",
       "    </tr>\n",
       "    <tr>\n",
       "      <th>8</th>\n",
       "      <td>128</td>\n",
       "      <td>91386</td>\n",
       "      <td>2</td>\n",
       "    </tr>\n",
       "    <tr>\n",
       "      <th>9</th>\n",
       "      <td>129</td>\n",
       "      <td>107299</td>\n",
       "      <td>2</td>\n",
       "    </tr>\n",
       "    <tr>\n",
       "      <th>10</th>\n",
       "      <td>131</td>\n",
       "      <td>133474</td>\n",
       "      <td>1</td>\n",
       "    </tr>\n",
       "    <tr>\n",
       "      <th>11</th>\n",
       "      <td>256</td>\n",
       "      <td>95115</td>\n",
       "      <td>1</td>\n",
       "    </tr>\n",
       "  </tbody>\n",
       "</table>\n",
       "</div>"
      ],
      "text/plain": [
       "    mtu_size  duration  pakets\n",
       "0         23     90618       7\n",
       "1         25    100688       6\n",
       "2         32     94547       5\n",
       "3         33     87247       5\n",
       "4         35     94075       4\n",
       "5         64    103956       3\n",
       "6         65    107174       3\n",
       "7         67    113065       2\n",
       "8        128     91386       2\n",
       "9        129    107299       2\n",
       "10       131    133474       1\n",
       "11       256     95115       1"
      ]
     },
     "execution_count": 303,
     "metadata": {},
     "output_type": "execute_result"
    }
   ],
   "source": [
    "df_mtu = df_mtu[[\"mtu_size\",\"duration\",\"pakets\"]].groupby([\"mtu_size\"]).min().reset_index(drop=False)\n",
    "df_mtu[\"expected pakets\"] = df_mtu[\"mtu_size\"].apply(lambda x:paket_func(df_mtu_data_size_values[0],x))\n",
    "text = df_mtu.drop(\"expected pakets\",axis=1).to_latex(label=\"table:notifydetailmtuchange\",caption=\"Notify-Ansatz MTU Variationen\",index=False)\n",
    "text = format_table_text(text)\n",
    "with open(\"outputs/notify_mtu_change_table.tex\", \"w\") as text_file:\n",
    "    text_file.write(text)\n",
    "df_mtu.drop(\"expected pakets\",axis=1)"
   ]
  },
  {
   "cell_type": "code",
   "execution_count": 304,
   "metadata": {},
   "outputs": [
    {
     "data": {
      "image/png": "[encoded data removed]",
      "text/plain": [
       "<Figure size 432x288 with 1 Axes>"
      ]
     },
     "metadata": {
      "needs_background": "light"
     },
     "output_type": "display_data"
    }
   ],
   "source": [
    "subplot = df_mtu.set_index([\"mtu_size\",\"pakets\"]).plot(y=[\"duration\"],kind=\"barh\",xlabel=\"MTU, Pakets\")\n",
    "step = int(df_mtu_conn_interval_values[0]*1_000)\n",
    "if math.ceil(int(df_mtu['duration'].max())/step) <= 6:\n",
    "    subplot.xaxis.set_major_locator(matplotlib.ticker.MultipleLocator(step))\n",
    "elif math.ceil(int(df_mtu['duration'].max())/step) <= 10:\n",
    "    subplot.xaxis.set_major_locator(matplotlib.ticker.MultipleLocator(step))\n",
    "else:\n",
    "    subplot.xaxis.set_major_locator(matplotlib.ticker.MultipleLocator(4*step))\n",
    "subplot.xaxis.set_minor_locator(matplotlib.ticker.MultipleLocator(step))\n",
    "subplot.set_title(\"NOTIFY, Data=%d Byte, Connection-Interval-Length=%d ms\"%(df_mtu_data_size_values[0],df_mtu_conn_interval_values[0]))\n",
    "for i in range(step,int(df_mtu['duration'].max()),step*2):\n",
    "    rect = patches.Rectangle((i, -10), step, 512, linewidth=0.5, edgecolor='black', facecolor='blue',alpha=0.1)\n",
    "    subplot.add_patch(rect)\n",
    "plt.legend(loc=\"lower right\")\n",
    "plt.xlabel(\"Duration [µs]\")\n",
    "plt.ylabel(\"MTU [Byte], Pakets\")\n",
    "plt.tight_layout()\n",
    "plt.savefig(\"outputs/notify_mtu_change_128\")\n",
    "plt.show()"
   ]
  },
  {
   "cell_type": "markdown",
   "metadata": {},
   "source": [
    "Die Grafik bestätigt die Formel xy, zeigt aber auch, dass die Anzahl der Pakete, beziehungsweise die Größe der MTU Pakete scheinbar keinen Einfluss auf die Übertragung haben. Abbildung xx, zeigt aber, dass es bei einem kürzeren Connection-Interval durchaus vorkommen kann, dass nicht alle Pakete in einem Connection-Interval übertragen werden können. Dafür wird im folgenden Kapitel das Connection-Interval bei gleichbleibender Paketanzahl und Paketgröße, verändert."
   ]
  },
  {
   "cell_type": "markdown",
   "metadata": {},
   "source": [
    "Mit Formel xy ergeben sich ähnlich zum Read-Ansatz folgende Intervalle:  \n",
    "$\\text{Anzahl der Pakete}=\\begin{cases}\n",
    "1\t& 131 <= MTU < 255 \\\\\n",
    "2\t& 67 <= MTU < 131 \\\\\n",
    "3\t& 46 <= MTU < 67 \\\\\n",
    "4\t& 35 <= MTU < 46 \\\\\n",
    "5\t& 29 <= MTU < 35 \\\\\n",
    "6\t& 25 <= MTU < 29 \\\\\n",
    "7\t& 23 <= MTU < 25 \\\\\n",
    "\\end{cases}$"
   ]
  },
  {
   "cell_type": "markdown",
   "metadata": {},
   "source": [
    "## Connection-Interval"
   ]
  },
  {
   "cell_type": "markdown",
   "metadata": {},
   "source": [
    "Aus den verschiedenen Abbildungen für den Notify Ansatz in Abbildung 7.2 geht hervor, dass die Pakete in den meisten Fällen in einem oder zwei Intervallen übertragen werden können. Es zeigt sich dass bei längeren Intervallen unter umständen weniger Intervalle benötigt werden. Das bedeutet, in kürzeren Intervallen können nicht alle Pakete vollständig übertragen werden und werden erst im folgenden Sende-Intervall übertragen. Wenn das Intervall größer ist, können alle Pakete übertragen werden. Aus diesem Grund werden die Intervalle für die folgenden Versuche bei gleicher Daten- und MTU-Größe, also gleichbleibender Paketgröße verändert. "
   ]
  },
  {
   "cell_type": "code",
   "execution_count": 305,
   "metadata": {},
   "outputs": [
    {
     "data": {
      "text/html": [
       "<div>\n",
       "<style scoped>\n",
       "    .dataframe tbody tr th:only-of-type {\n",
       "        vertical-align: middle;\n",
       "    }\n",
       "\n",
       "    .dataframe tbody tr th {\n",
       "        vertical-align: top;\n",
       "    }\n",
       "\n",
       "    .dataframe thead tr th {\n",
       "        text-align: left;\n",
       "    }\n",
       "\n",
       "    .dataframe thead tr:last-of-type th {\n",
       "        text-align: right;\n",
       "    }\n",
       "</style>\n",
       "<table border=\"1\" class=\"dataframe\">\n",
       "  <thead>\n",
       "    <tr>\n",
       "      <th></th>\n",
       "      <th colspan=\"2\" halign=\"left\">duration</th>\n",
       "    </tr>\n",
       "    <tr>\n",
       "      <th>data</th>\n",
       "      <th>128</th>\n",
       "      <th>512</th>\n",
       "    </tr>\n",
       "    <tr>\n",
       "      <th>Connection-Interval</th>\n",
       "      <th></th>\n",
       "      <th></th>\n",
       "    </tr>\n",
       "  </thead>\n",
       "  <tbody>\n",
       "    <tr>\n",
       "      <th>45.0</th>\n",
       "      <td>52784</td>\n",
       "      <td>144456</td>\n",
       "    </tr>\n",
       "    <tr>\n",
       "      <th>80.0</th>\n",
       "      <td>94075</td>\n",
       "      <td>175119</td>\n",
       "    </tr>\n",
       "    <tr>\n",
       "      <th>160.0</th>\n",
       "      <td>199770</td>\n",
       "      <td>330256</td>\n",
       "    </tr>\n",
       "    <tr>\n",
       "      <th>320.0</th>\n",
       "      <td>465667</td>\n",
       "      <td>780317</td>\n",
       "    </tr>\n",
       "    <tr>\n",
       "      <th>640.0</th>\n",
       "      <td>983946</td>\n",
       "      <td>675516</td>\n",
       "    </tr>\n",
       "    <tr>\n",
       "      <th>1280.0</th>\n",
       "      <td>1607530</td>\n",
       "      <td>2412660</td>\n",
       "    </tr>\n",
       "  </tbody>\n",
       "</table>\n",
       "</div>"
      ],
      "text/plain": [
       "                    duration         \n",
       "data                     128      512\n",
       "Connection-Interval                  \n",
       "45.0                   52784   144456\n",
       "80.0                   94075   175119\n",
       "160.0                 199770   330256\n",
       "320.0                 465667   780317\n",
       "640.0                 983946   675516\n",
       "1280.0               1607530  2412660"
      ]
     },
     "execution_count": 305,
     "metadata": {},
     "output_type": "execute_result"
    }
   ],
   "source": [
    "df_interval_table = df_interval[[\"pakets\",\"duration\",\"data_size\",\"conn_interval\"]].rename(dict({\"data_size\":\"data\",\"conn_interval\":\"Connection-Interval\"}),axis=1)\n",
    "# to format for better understanding\n",
    "#df_interval_table[\"Connection-Interval\"] = df_interval_table[\"Connection-Interval\"].apply(lambda x:str(x*1.25)+\" ms\")\n",
    "df_interval_table = df_interval_table.groupby([\"data\",\"Connection-Interval\"]).min().reset_index()\n",
    "#df_interval_table[\"used intervals\"] = round(df_interval_table[\"duration\"] / (df_interval_table[\"Connection-Interval\"]*1.25*1_000),2)\n",
    "df_interval_table = df_interval_table.pivot(index=\"Connection-Interval\",columns=[\"data\"],values=[\"duration\"])\n",
    "\n",
    "text = df_interval_table.to_latex(label=\"table:notifydetailconnectionintervalchange\",caption=\"Notify-Ansatz Connection-Interval Variationen\")\n",
    "text = format_table_text(text)\n",
    "with open(\"outputs/notify_connection_interval_change.tex\", \"w\") as text_file:\n",
    "    text_file.write(text)\n",
    "df_interval_table"
   ]
  },
  {
   "cell_type": "code",
   "execution_count": 306,
   "metadata": {},
   "outputs": [
    {
     "data": {
      "image/png": "[encoded data removed]",
      "text/plain": [
       "<Figure size 432x288 with 1 Axes>"
      ]
     },
     "metadata": {
      "needs_background": "light"
     },
     "output_type": "display_data"
    }
   ],
   "source": [
    "mtu = df_interval_mtu_values[0]\n",
    "data = min(df_interval_data_size_values)\n",
    "expected_conn_intervals = paket_func(data,mtu)\n",
    "df_interval_plot = df_interval[df_interval[\"data_size\"] == data]\n",
    "df_interval_plot = df_interval_plot[[\"conn_interval\",\"duration\"]].groupby([\"conn_interval\"]).min().reset_index(drop=False)\n",
    "subplot = df_interval_plot.plot(x=\"conn_interval\",y=\"duration\",kind=\"barh\",xlabel=\"Connection-Interval-Length [ms]\")\n",
    "subplot.xaxis.set_major_locator(matplotlib.ticker.MultipleLocator(df_interval_conn_interval_values[2]*1_000))\n",
    "subplot.set_title(\"NOTIFY, Data=%d Byte, MTU=%d Byte (%d pakets)\"%(data,mtu,expected_conn_intervals))\n",
    "plt.xlabel(\"Duration [µs]\")\n",
    "for index,df_tmp in df_interval_plot.iterrows():\n",
    "    interval = df_tmp[\"conn_interval\"]\n",
    "    step = int(interval*1000)\n",
    "    for j in range(step,int(df_tmp[\"duration\"]),step*2):\n",
    "        rect = patches.Rectangle((j, index-0.375), step, 0.75, linewidth=0.5, edgecolor='black', facecolor='blue',alpha=0.1)\n",
    "        subplot.add_patch(rect)\n",
    "plt.tight_layout()\n",
    "plt.savefig(\"outputs/notify_connection_interval_change_128\")\n"
   ]
  },
  {
   "cell_type": "markdown",
   "metadata": {},
   "source": [
    "Für diesen Versuch wirkt es so, als ob die Länge des Connection-Interval sich auf die Dauer wie beim Read-Ansatz auswirkt. Die Dauer der Übertragung steigt proportional mit der Länge des Intervalls. \n",
    "\n",
    "Das gilt aber nur für den Fall, dass nur ein Connection-Interval benötigt wird. Grund hierfür ist, dass die Dauer bis zum Sende-Interval des Peripheral in etwa die Länge eines Connection-Interval beträgt.\n",
    "\n",
    "Um zu Untersuchen wann mehrere Intervalle benötigt werden, wird der Versuch mit weiteren Werten wiederholt.\n",
    "Um die Paketanzahl zu erhöhen, werden die Pakete von 4 auf 16 erhöht. Dafür wurde die Datengröße von 128 Byte auf 512 Byte gesetzt und die gleiche MTU-Größe verwendet."
   ]
  },
  {
   "cell_type": "code",
   "execution_count": 307,
   "metadata": {
    "scrolled": false
   },
   "outputs": [
    {
     "data": {
      "image/png": "[encoded data removed]",
      "text/plain": [
       "<Figure size 432x288 with 1 Axes>"
      ]
     },
     "metadata": {
      "needs_background": "light"
     },
     "output_type": "display_data"
    }
   ],
   "source": [
    "mtu = df_interval_mtu_values[0]\n",
    "data = max(df_interval_data_size_values)\n",
    "expected_conn_intervals = paket_func(data,mtu)\n",
    "df_interval_plot = df_interval[df_interval[\"data_size\"] == data]\n",
    "df_interval_plot = df_interval_plot[[\"conn_interval\",\"duration\"]].groupby([\"conn_interval\"]).min().reset_index(drop=False)\n",
    "subplot = df_interval_plot.plot(x=\"conn_interval\",y=\"duration\",kind=\"barh\",xlabel=\"Connection-Interval-Length [ms]\")\n",
    "subplot.xaxis.set_major_locator(matplotlib.ticker.MultipleLocator(df_interval_conn_interval_values[2]*1_000))\n",
    "subplot.set_title(\"NOTIFY, Data=%d Byte, MTU=%d Byte (%d pakets)\"%(data,mtu,expected_conn_intervals))\n",
    "plt.xlabel(\"Duration [µs]\")\n",
    "for index,df_tmp in df_interval_plot.iterrows():\n",
    "    interval = df_tmp[\"conn_interval\"]\n",
    "    step = int(interval*1000)\n",
    "    for j in range(step,int(df_tmp[\"duration\"]),step*2):\n",
    "        rect = patches.Rectangle((j, index-0.375), step, 0.75, linewidth=0.5, edgecolor='black', facecolor='blue',alpha=0.1)\n",
    "        subplot.add_patch(rect)\n",
    "plt.tight_layout()\n",
    "plt.savefig(\"outputs/notify_connection_interval_change_512\")\n"
   ]
  },
  {
   "cell_type": "markdown",
   "metadata": {},
   "source": [
    "Hier zeigt sich, nur für ein Intervall von 45 ms werden mehrere Intervalle benötigt. Für alle anderen Intervalllängen können die 16 Pakete in einem Intervall übertragen werden. Daraus lässt sich folgern, dass die Anzahl der Intervalle nicht durch die Anzahl der Pakete, sondern durch die Anzahl der Bytes beschränkt wird. \n",
    "\n",
    "Das wiederlegt auch die Annahme des Blogs \"Throughput\"."
   ]
  },
  {
   "cell_type": "markdown",
   "metadata": {},
   "source": [
    "### TODO:"
   ]
  },
  {
   "cell_type": "code",
   "execution_count": 308,
   "metadata": {},
   "outputs": [],
   "source": [
    "# make Experiment with lower MTU size, to increase Paket amount"
   ]
  },
  {
   "cell_type": "markdown",
   "metadata": {},
   "source": [
    "##### Theoretisch müsste man jetzt alle Variationen aus MTU & Datengröße überprüfen, das übersteigt aber diese Arbeit. Als Ergebniss kann man sagen, dass bei größeren Intervallen "
   ]
  },
  {
   "cell_type": "markdown",
   "metadata": {},
   "source": [
    "### IDEE:"
   ]
  },
  {
   "cell_type": "markdown",
   "metadata": {},
   "source": [
    "Um zu untersuchen, wie viele Pakete pro Interval gesendet werden können, könnte man die Wireshark Traces anschauen, die Pakete pro Intervall zählen.  \n",
    "BpI = Byte pro Interval(Intervall-größe)\n",
    "\n",
    "BpI = Pakete * MTU\n",
    "\n",
    "Pakete = MTU / BpI"
   ]
  },
  {
   "cell_type": "markdown",
   "metadata": {},
   "source": [
    "Für 45 ms Intervall, MTU = 35, Data = 512:  \n",
    "BpI(45) = 15 * 35  \n",
    "Für 40 ms Intervall, MTU = 29, Data = 512:  \n",
    "BpI(45) = Pakete * 29  \n",
    "\n",
    "aus BpI(45) Werten kann max wert genommen werden.  \n",
    "=> Nachteil, ist sehr aufwändig"
   ]
  },
  {
   "cell_type": "code",
   "execution_count": null,
   "metadata": {},
   "outputs": [],
   "source": []
  }
 ],
 "metadata": {
  "kernelspec": {
   "display_name": "Python 3",
   "language": "python",
   "name": "python3"
  },
  "language_info": {
   "codemirror_mode": {
    "name": "ipython",
    "version": 3
   },
   "file_extension": ".py",
   "mimetype": "text/x-python",
   "name": "python",
   "nbconvert_exporter": "python",
   "pygments_lexer": "ipython3",
   "version": "3.8.5"
  }
 },
 "nbformat": 4,
 "nbformat_minor": 4
}
