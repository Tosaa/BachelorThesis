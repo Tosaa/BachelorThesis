{
 "cells": [
  {
   "cell_type": "code",
   "execution_count": 2,
   "metadata": {},
   "outputs": [],
   "source": [
    "import pandas as pd"
   ]
  },
  {
   "cell_type": "code",
   "execution_count": 25,
   "metadata": {},
   "outputs": [],
   "source": [
    "def hex_str_to_ascii_string(hex_str):\n",
    "    new_str = \"\"\n",
    "    for letter in [hex_str[i:i + 2] for i in range(0, len(hex_str), 2)]:\n",
    "        try:\n",
    "            ascii_val = int(letter,16)\n",
    "            if ascii_val == 20 or ascii_val >= 30:\n",
    "                new_str += chr(ascii_val)\n",
    "            else:\n",
    "                pass\n",
    "        except:\n",
    "            pass\n",
    "    return new_str.replace(\" $\",\"\")\n",
    "\n",
    "def isIn(needles,hay):\n",
    "    return any([needle in hay for needle in needles])"
   ]
  },
  {
   "cell_type": "code",
   "execution_count": 26,
   "metadata": {},
   "outputs": [],
   "source": [
    "class Request():\n",
    "    def __init__(self,request_type):\n",
    "        self.request_type = request_type\n",
    "        self.df = pd.DataFrame()\n",
    "        self.state = \"open\"\n",
    "        self.starting_time = None\n",
    "        self.ending_time = None\n",
    "        self.duration = None\n",
    "        self.data_size = None\n",
    "        self.mtu_size = None\n",
    "        self.conn_interval = None\n",
    "        \n",
    "    def add(self,row):\n",
    "        \n",
    "        row_starts_with_Data = hex_str_to_ascii_string(row['Value']).startswith(\"Data\")\n",
    "        dataframe_starts_with_Data = self.get_data().startswith(\"Data\")\n",
    "        if(dataframe_starts_with_Data):\n",
    "            self.df = self.df.append(row)\n",
    "        else:\n",
    "            if(row_starts_with_Data):\n",
    "                self.df = self.df.append(row)\n",
    "            else:\n",
    "                if isIn([\"READ Rcvd\",\"NOTIFY\"],row['Pakettype']):\n",
    "                    print(\"Should not add Row\")\n",
    "                else:\n",
    "                    self.df = self.df.append(row)\n",
    "    \n",
    "    def state_pause(self):\n",
    "        self.state =\"pause\"\n",
    "        \n",
    "    def state_close(self):\n",
    "        self.state = \"close\"\n",
    "        self.starting_time = self.df.iloc[0]['Time.1']\n",
    "        self.ending_time = self.df.iloc[-1]['Time.1']\n",
    "        self.duration = self.ending_time - self.starting_time\n",
    "        \n",
    "    def state_open(self):\n",
    "        self.state = \"open\"\n",
    "        \n",
    "    def set_data_size(self,data_size):\n",
    "        self.data_size = data_size    \n",
    "        \n",
    "    def set_mtu_size(self,mtu_size):\n",
    "        self.mtu_size = mtu_size\n",
    "        \n",
    "    def set_conn_interval(self,conn_interval):\n",
    "        self.conn_interval = conn_interval\n",
    "    \n",
    "    def get_data(self,print_conversion=False):\n",
    "        if \"Value\" in self.df.columns:\n",
    "            data = \"\"\n",
    "            for i,row in self.df[self.df['Pakettype'].apply(lambda x:isIn([\"READ\",\"NOTIFY\"],x))].iterrows():\n",
    "                if not \"nan\" in row['Value']:\n",
    "                    data += hex_str_to_ascii_string(row[\"Value\"])\n",
    "                    if print_conversion:\n",
    "                        print(\"org\",row[\"Value\"])\n",
    "                        print(\"conversion\",hex_str_to_ascii_string(row[\"Value\"]))\n",
    "            return data\n",
    "        else:\n",
    "            return \"\"\n",
    "    def get_request_numbers(self):\n",
    "        df_tmp = self.df\n",
    "        read_requests = len(df_tmp[df_tmp['Opcode'].apply(lambda x:isIn([\"Read Request\",\"Read Blob Request\"],x))].index)\n",
    "        read_responses = len(df_tmp[df_tmp['Opcode'].apply(lambda x:isIn([\"Read Response\",\"Read Blob Response\"],x))].index)\n",
    "        notifications = len(df_tmp[df_tmp['Opcode'].str.contains(\"Notification\")].index)\n",
    "        return read_requests,read_responses,notifications\n",
    "    \n",
    "    def as_dict(self):\n",
    "        request_dict = dict()\n",
    "        request_dict[\"request_type\"] = self.request_type\n",
    "        request_dict[\"starting_time\"] = self.starting_time \n",
    "        request_dict[\"ending_time\"] = self.ending_time \n",
    "        request_dict[\"duration\"] = self.duration \n",
    "        request_dict[\"data_size\"] = self.data_size \n",
    "        request_dict[\"mtu_size\"] = self.mtu_size \n",
    "        request_dict[\"conn_interval\"] = self.conn_interval\n",
    "        request_dict[\"data\"] = self.get_data()\n",
    "        request_dict[\"read_requests\"],request_dict[\"read_responses\"],request_dict[\"notifies\"] = self.get_request_numbers()\n",
    "        \n",
    "        return request_dict    \n",
    "    \n",
    "    def __str__(self):\n",
    "        return str(self.as_dict())"
   ]
  },
  {
   "cell_type": "code",
   "execution_count": 27,
   "metadata": {},
   "outputs": [],
   "source": [
    "def create_str(length):\n",
    "    standardOutput = \"Data Size \" + str(length)\n",
    "    content = \"\"\n",
    "    i = len(standardOutput)\n",
    "    while i < length:\n",
    "        content += chr(97+(i%26))\n",
    "        i+=1\n",
    "    print(standardOutput+content,len(standardOutput+content))"
   ]
  },
  {
   "cell_type": "code",
   "execution_count": 28,
   "metadata": {},
   "outputs": [
    {
     "name": "stdout",
     "output_type": "stream",
     "text": [
      "Data Size 64mnopqrstuvwxyzabcdefghijklmnopqrstuvwxyzabcdefghijkl 64\n"
     ]
    },
    {
     "data": {
      "text/plain": [
       "'Data Size 64mnopqrstuvwxyzabcdefghijklmnopqrstuvwxyzabcdefghijkl'"
      ]
     },
     "execution_count": 28,
     "metadata": {},
     "output_type": "execute_result"
    }
   ],
   "source": [
    "create_str(64)\n",
    "'Data Size 64mnopqrstuvwxyzabcdefghijklmnopqrstuvwxyzabcdefghijkl'"
   ]
  },
  {
   "cell_type": "code",
   "execution_count": 29,
   "metadata": {},
   "outputs": [
    {
     "name": "stdout",
     "output_type": "stream",
     "text": [
      "72\n",
      "44\n",
      "D\n",
      "61\n",
      "a\n",
      "74\n",
      "t\n",
      "61\n",
      "a\n",
      "20\n",
      " \n",
      "53\n",
      "S\n",
      "69\n",
      "i\n",
      "7a\n",
      "z\n",
      "65\n",
      "e\n",
      "20\n",
      " \n",
      "31\n",
      "1\n",
      "32\n",
      "2\n",
      "38\n",
      "8\n",
      "6e\n",
      "n\n",
      "6f\n",
      "o\n",
      "70\n",
      "p\n",
      "71\n",
      "q\n",
      "72\n",
      "r\n",
      "73\n",
      "s\n",
      "74\n",
      "t\n",
      "75\n",
      "u\n",
      "76\n",
      "v\n",
      "77\n",
      "w\n",
      "78\n",
      "x\n",
      "79\n",
      "y\n",
      "7a\n",
      "z\n",
      "61\n",
      "a\n",
      "62\n",
      "b\n",
      "63\n",
      "c\n",
      "64\n",
      "d\n",
      "65\n",
      "e\n",
      "66\n",
      "f\n",
      "67\n",
      "g\n",
      "68\n",
      "h\n",
      "69\n",
      "i\n",
      "6a\n",
      "j\n"
     ]
    },
    {
     "data": {
      "text/plain": [
       "'Data Size 128nopqrstuvwxyzabcdefghij'"
      ]
     },
     "execution_count": 29,
     "metadata": {},
     "output_type": "execute_result"
    }
   ],
   "source": [
    "check = \"446174612053697a65203132386e6f707172737475767778797a6162636465666768696a\"\n",
    "print(len(check))\n",
    "ascii_str= hex_str_to_ascii_string(check)\n",
    "len(ascii_str)\n",
    "ascii_str"
   ]
  },
  {
   "cell_type": "code",
   "execution_count": 19,
   "metadata": {},
   "outputs": [
    {
     "name": "stdout",
     "output_type": "stream",
     "text": [
      "aâ\n",
      "¦\n"
     ]
    },
    {
     "data": {
      "text/plain": [
       "''"
      ]
     },
     "execution_count": 19,
     "metadata": {},
     "output_type": "execute_result"
    }
   ],
   "source": [
    "hex_str_to_ascii_string(\"aâ\\200\\246\")"
   ]
  },
  {
   "cell_type": "code",
   "execution_count": null,
   "metadata": {},
   "outputs": [],
   "source": []
  }
 ],
 "metadata": {
  "kernelspec": {
   "display_name": "Python 3",
   "language": "python",
   "name": "python3"
  },
  "language_info": {
   "codemirror_mode": {
    "name": "ipython",
    "version": 3
   },
   "file_extension": ".py",
   "mimetype": "text/x-python",
   "name": "python",
   "nbconvert_exporter": "python",
   "pygments_lexer": "ipython3",
   "version": "3.8.5"
  }
 },
 "nbformat": 4,
 "nbformat_minor": 4
}
