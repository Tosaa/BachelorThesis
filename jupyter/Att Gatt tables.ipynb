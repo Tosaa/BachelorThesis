{
 "cells": [
  {
   "cell_type": "code",
   "execution_count": 28,
   "metadata": {},
   "outputs": [],
   "source": [
    "import pandas as pd"
   ]
  },
  {
   "cell_type": "code",
   "execution_count": 29,
   "metadata": {},
   "outputs": [],
   "source": [
    "def toTabularX(latex_str):\n",
    "    return latex_str.replace(\"\\end{tabular}\",\"\\end{tabularx}\").replace(\"\\\\begin{tabular}\",\"\\\\begin{tabularx}{\\linewidth}\").replace(\"rrrrrrr\",\"XXXXXXX\").replace(\"rrrrrrrr\",\"XXXXXXXX\")\n"
   ]
  },
  {
   "cell_type": "code",
   "execution_count": 30,
   "metadata": {},
   "outputs": [],
   "source": [
    "attribute = dict(Handle=\"0x0001\",Type=\"UUID\",Permissions=\"read/write/none\",Value=\"Hello World\")"
   ]
  },
  {
   "cell_type": "code",
   "execution_count": 31,
   "metadata": {},
   "outputs": [],
   "source": [
    "attribute_template = pd.DataFrame(columns=attribute.keys())"
   ]
  },
  {
   "cell_type": "code",
   "execution_count": 32,
   "metadata": {},
   "outputs": [
    {
     "data": {
      "text/html": [
       "<div>\n",
       "<style scoped>\n",
       "    .dataframe tbody tr th:only-of-type {\n",
       "        vertical-align: middle;\n",
       "    }\n",
       "\n",
       "    .dataframe tbody tr th {\n",
       "        vertical-align: top;\n",
       "    }\n",
       "\n",
       "    .dataframe thead th {\n",
       "        text-align: right;\n",
       "    }\n",
       "</style>\n",
       "<table border=\"1\" class=\"dataframe\">\n",
       "  <thead>\n",
       "    <tr style=\"text-align: right;\">\n",
       "      <th></th>\n",
       "      <th>Handle</th>\n",
       "      <th>Type</th>\n",
       "      <th>Permissions</th>\n",
       "      <th>Value</th>\n",
       "    </tr>\n",
       "  </thead>\n",
       "  <tbody>\n",
       "    <tr>\n",
       "      <th>0</th>\n",
       "      <td>0x0001</td>\n",
       "      <td>UUID (primary service)</td>\n",
       "      <td>Read Only</td>\n",
       "      <td>Service UUID</td>\n",
       "    </tr>\n",
       "  </tbody>\n",
       "</table>\n",
       "</div>"
      ],
      "text/plain": [
       "   Handle                    Type Permissions         Value\n",
       "0  0x0001  UUID (primary service)   Read Only  Service UUID"
      ]
     },
     "execution_count": 32,
     "metadata": {},
     "output_type": "execute_result"
    }
   ],
   "source": [
    "service_declaration = attribute_template.append(pd.DataFrame([[\"0x0001\",\"UUID (primary service)\",\"Read Only\",\"Service UUID\"]],columns=attribute.keys()), ignore_index=True)\n",
    "latex = service_declaration.to_latex(caption=\"GATT service descriptor\",label=\"tbl:gattServiceDescriptor\",index=False)\n",
    "service_declaration"
   ]
  },
  {
   "cell_type": "markdown",
   "metadata": {},
   "source": [
    "GATT SERVER\n",
    "\n",
    "GATT Service 0x180D Heart Rate\n",
    "\n",
    "GATT Characteristic and Object Type 0x2A37 Heart Rate Measurement\n",
    "Notify\n",
    "\n",
    "GATT Characteristic and Object Type 0x2A38 Body Sensor Location\n",
    "(optional)   Read\n",
    "\n",
    "GATT Descriptor 0x2902 Client Characteristic Configuration\n",
    "Read Write\n",
    "\n",
    "GATT Declarations 0x2800 Primary Service\n",
    "GATT Declarations 0x2803 Characteristic"
   ]
  },
  {
   "cell_type": "code",
   "execution_count": 43,
   "metadata": {},
   "outputs": [],
   "source": [
    "def createAtt(rows):\n",
    "    newdf = pd.DataFrame(rows,columns=attribute.keys())\n",
    "    return attribute_template.append(newdf,ignore_index=True).style.hide_index()"
   ]
  },
  {
   "cell_type": "code",
   "execution_count": 50,
   "metadata": {},
   "outputs": [],
   "source": [
    "hrm_service = [['0x0001','0x2800','READ','0x180D']]\n",
    "hrm_characteristic = [['0x0002','0x2803','READ','NOTIFY|0x0003|0x2A37'],\n",
    "                     ['0x0003','0x2A37','NONE','123']\n",
    "                     ]\n",
    "hrm_descripor = [['0x0004','0x2903','READ/WRITE','0x0000']]\n",
    "hrm_position_characteristic = [['0x0005','0x2803','READ','READ|0x0006|0x0x2A38'],\n",
    "                     ['0x0006','0x2A38','READ','1']]"
   ]
  },
  {
   "cell_type": "code",
   "execution_count": 51,
   "metadata": {},
   "outputs": [
    {
     "data": {
      "text/html": [
       "<style  type=\"text/css\" >\n",
       "</style><table id=\"T_1e242c20_af52_11eb_a807_0242ac110002\" ><thead>    <tr>        <th class=\"col_heading level0 col0\" >Handle</th>        <th class=\"col_heading level0 col1\" >Type</th>        <th class=\"col_heading level0 col2\" >Permissions</th>        <th class=\"col_heading level0 col3\" >Value</th>    </tr></thead><tbody>\n",
       "                <tr>\n",
       "                                <td id=\"T_1e242c20_af52_11eb_a807_0242ac110002row0_col0\" class=\"data row0 col0\" >0x0001</td>\n",
       "                        <td id=\"T_1e242c20_af52_11eb_a807_0242ac110002row0_col1\" class=\"data row0 col1\" >0x2800</td>\n",
       "                        <td id=\"T_1e242c20_af52_11eb_a807_0242ac110002row0_col2\" class=\"data row0 col2\" >READ</td>\n",
       "                        <td id=\"T_1e242c20_af52_11eb_a807_0242ac110002row0_col3\" class=\"data row0 col3\" >0x180D</td>\n",
       "            </tr>\n",
       "    </tbody></table>"
      ],
      "text/plain": [
       "<pandas.io.formats.style.Styler at 0x7f540df259a0>"
      ]
     },
     "execution_count": 51,
     "metadata": {},
     "output_type": "execute_result"
    }
   ],
   "source": [
    "createAtt(hrm_service)"
   ]
  },
  {
   "cell_type": "code",
   "execution_count": 52,
   "metadata": {},
   "outputs": [
    {
     "data": {
      "text/html": [
       "<style  type=\"text/css\" >\n",
       "</style><table id=\"T_1e42cedc_af52_11eb_a807_0242ac110002\" ><thead>    <tr>        <th class=\"col_heading level0 col0\" >Handle</th>        <th class=\"col_heading level0 col1\" >Type</th>        <th class=\"col_heading level0 col2\" >Permissions</th>        <th class=\"col_heading level0 col3\" >Value</th>    </tr></thead><tbody>\n",
       "                <tr>\n",
       "                                <td id=\"T_1e42cedc_af52_11eb_a807_0242ac110002row0_col0\" class=\"data row0 col0\" >0x0002</td>\n",
       "                        <td id=\"T_1e42cedc_af52_11eb_a807_0242ac110002row0_col1\" class=\"data row0 col1\" >0x2803</td>\n",
       "                        <td id=\"T_1e42cedc_af52_11eb_a807_0242ac110002row0_col2\" class=\"data row0 col2\" >READ</td>\n",
       "                        <td id=\"T_1e42cedc_af52_11eb_a807_0242ac110002row0_col3\" class=\"data row0 col3\" >NOTIFY|0x0003|0x2A37</td>\n",
       "            </tr>\n",
       "            <tr>\n",
       "                                <td id=\"T_1e42cedc_af52_11eb_a807_0242ac110002row1_col0\" class=\"data row1 col0\" >0x0003</td>\n",
       "                        <td id=\"T_1e42cedc_af52_11eb_a807_0242ac110002row1_col1\" class=\"data row1 col1\" >0x2A37</td>\n",
       "                        <td id=\"T_1e42cedc_af52_11eb_a807_0242ac110002row1_col2\" class=\"data row1 col2\" >NONE</td>\n",
       "                        <td id=\"T_1e42cedc_af52_11eb_a807_0242ac110002row1_col3\" class=\"data row1 col3\" >123</td>\n",
       "            </tr>\n",
       "    </tbody></table>"
      ],
      "text/plain": [
       "<pandas.io.formats.style.Styler at 0x7f540df25190>"
      ]
     },
     "execution_count": 52,
     "metadata": {},
     "output_type": "execute_result"
    }
   ],
   "source": [
    "createAtt(hrm_characteristic)"
   ]
  },
  {
   "cell_type": "code",
   "execution_count": 53,
   "metadata": {},
   "outputs": [
    {
     "data": {
      "text/html": [
       "<style  type=\"text/css\" >\n",
       "</style><table id=\"T_1e65084e_af52_11eb_a807_0242ac110002\" ><thead>    <tr>        <th class=\"col_heading level0 col0\" >Handle</th>        <th class=\"col_heading level0 col1\" >Type</th>        <th class=\"col_heading level0 col2\" >Permissions</th>        <th class=\"col_heading level0 col3\" >Value</th>    </tr></thead><tbody>\n",
       "                <tr>\n",
       "                                <td id=\"T_1e65084e_af52_11eb_a807_0242ac110002row0_col0\" class=\"data row0 col0\" >0x0004</td>\n",
       "                        <td id=\"T_1e65084e_af52_11eb_a807_0242ac110002row0_col1\" class=\"data row0 col1\" >0x2903</td>\n",
       "                        <td id=\"T_1e65084e_af52_11eb_a807_0242ac110002row0_col2\" class=\"data row0 col2\" >READ/WRITE</td>\n",
       "                        <td id=\"T_1e65084e_af52_11eb_a807_0242ac110002row0_col3\" class=\"data row0 col3\" >0x0000</td>\n",
       "            </tr>\n",
       "    </tbody></table>"
      ],
      "text/plain": [
       "<pandas.io.formats.style.Styler at 0x7f540df25e20>"
      ]
     },
     "execution_count": 53,
     "metadata": {},
     "output_type": "execute_result"
    }
   ],
   "source": [
    "createAtt(hrm_descripor)"
   ]
  },
  {
   "cell_type": "code",
   "execution_count": 54,
   "metadata": {},
   "outputs": [
    {
     "data": {
      "text/html": [
       "<style  type=\"text/css\" >\n",
       "</style><table id=\"T_1e8640cc_af52_11eb_a807_0242ac110002\" ><thead>    <tr>        <th class=\"col_heading level0 col0\" >Handle</th>        <th class=\"col_heading level0 col1\" >Type</th>        <th class=\"col_heading level0 col2\" >Permissions</th>        <th class=\"col_heading level0 col3\" >Value</th>    </tr></thead><tbody>\n",
       "                <tr>\n",
       "                                <td id=\"T_1e8640cc_af52_11eb_a807_0242ac110002row0_col0\" class=\"data row0 col0\" >0x0005</td>\n",
       "                        <td id=\"T_1e8640cc_af52_11eb_a807_0242ac110002row0_col1\" class=\"data row0 col1\" >0x2803</td>\n",
       "                        <td id=\"T_1e8640cc_af52_11eb_a807_0242ac110002row0_col2\" class=\"data row0 col2\" >READ</td>\n",
       "                        <td id=\"T_1e8640cc_af52_11eb_a807_0242ac110002row0_col3\" class=\"data row0 col3\" >READ|0x0006|0x0x2A38</td>\n",
       "            </tr>\n",
       "            <tr>\n",
       "                                <td id=\"T_1e8640cc_af52_11eb_a807_0242ac110002row1_col0\" class=\"data row1 col0\" >0x0006</td>\n",
       "                        <td id=\"T_1e8640cc_af52_11eb_a807_0242ac110002row1_col1\" class=\"data row1 col1\" >0x2A38</td>\n",
       "                        <td id=\"T_1e8640cc_af52_11eb_a807_0242ac110002row1_col2\" class=\"data row1 col2\" >READ</td>\n",
       "                        <td id=\"T_1e8640cc_af52_11eb_a807_0242ac110002row1_col3\" class=\"data row1 col3\" >1</td>\n",
       "            </tr>\n",
       "    </tbody></table>"
      ],
      "text/plain": [
       "<pandas.io.formats.style.Styler at 0x7f540df25ca0>"
      ]
     },
     "execution_count": 54,
     "metadata": {},
     "output_type": "execute_result"
    }
   ],
   "source": [
    "createAtt(hrm_position_characteristic)"
   ]
  },
  {
   "cell_type": "code",
   "execution_count": null,
   "metadata": {},
   "outputs": [],
   "source": [
    "https://developer.nordicsemi.com/nRF5_SDK/nRF51_SDK_v4.x.x/doc/html/group__ble__sdk__srv__hrs.html#details"
   ]
  },
  {
   "cell_type": "code",
   "execution_count": null,
   "metadata": {},
   "outputs": [],
   "source": []
  }
 ],
 "metadata": {
  "kernelspec": {
   "display_name": "Python 3",
   "language": "python",
   "name": "python3"
  },
  "language_info": {
   "codemirror_mode": {
    "name": "ipython",
    "version": 3
   },
   "file_extension": ".py",
   "mimetype": "text/x-python",
   "name": "python",
   "nbconvert_exporter": "python",
   "pygments_lexer": "ipython3",
   "version": "3.8.5"
  }
 },
 "nbformat": 4,
 "nbformat_minor": 4
}
