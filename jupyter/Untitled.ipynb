{
 "cells": [
  {
   "cell_type": "markdown",
   "metadata": {},
   "source": [
    "## README\n",
    "1. Get SNOOP File\n",
    "To receive the HCI_Snoop File, launch the pullSnoop bash file in the hci_logs directory  \n",
    "or  \n",
    "use \"adb pull /data/log/bt/\"\n",
    "2. Analyse SNOOP File  \n",
    "Open collected logs with wireshark.\n",
    "3. Apply Filter\n",
    "Apply Filter if exists or type own filter like:  \n",
    "(bluetooth.src == c4:9f:4c:27:59:79) || (bluetooth.src == 24:0a:c4:61:78:d2) || (bluetooth.dst == 24:0a:c4:61:78:d2)||(bluetooth.dst == c4:9f:4c:27:59:79)\n",
    "4. Show app log file  \n",
    "Drag the log file from the app into the share folder, or copy the content into a new file in the share folder  \n",
    "5. Analyze log file  \n",
    "Use the Notebook below to analyze the app logs and to find time stamps to compare with the HCI_Snoop File  \n",
    "\n"
   ]
  },
  {
   "cell_type": "code",
   "execution_count": 200,
   "metadata": {},
   "outputs": [],
   "source": [
    "import pandas as pd\n",
    "import pprint\n",
    "import re\n",
    "import matplotlib\n",
    "import matplotlib.pyplot as plt\n",
    "import numpy as np"
   ]
  },
  {
   "cell_type": "code",
   "execution_count": 38,
   "metadata": {},
   "outputs": [],
   "source": [
    "columns = [\"time\",\"priority\",\"class\",\"message\",\"extra\"]\n",
    "date = \"2021-03-16\"\n",
    "filename_app = date+\".log\"\n",
    "filename_hci = \"hci-\"+date+\".csv\""
   ]
  },
  {
   "cell_type": "markdown",
   "metadata": {},
   "source": [
    "#### Read App logs"
   ]
  },
  {
   "cell_type": "code",
   "execution_count": 39,
   "metadata": {},
   "outputs": [
    {
     "name": "stdout",
     "output_type": "stream",
     "text": [
      "file is ok already\n"
     ]
    }
   ],
   "source": [
    "open_file = open(filename_app,\"r\")\n",
    "file_text = open_file.read().replace(\"$$$\",\"§\")\n",
    "file_header = \"0§1§2§3§4\"\n",
    "open_file.close()\n",
    "file_text_replaced = file_text\n",
    "if(file_text.startswith(file_header)):\n",
    "    print(\"file is ok already\")\n",
    "else:\n",
    "    print(\"add fileheader to file\")\n",
    "    open_file = open(filename_app,\"w\")\n",
    "    open_file.write(file_header)\n",
    "    open_file.write(\"\\n\")\n",
    "    open_file.write(file_text)\n",
    "    open_file.close()"
   ]
  },
  {
   "cell_type": "code",
   "execution_count": 81,
   "metadata": {},
   "outputs": [
    {
     "name": "stderr",
     "output_type": "stream",
     "text": [
      "<ipython-input-81-21202659c035>:1: ParserWarning: Falling back to the 'python' engine because the separator encoded in utf-8 is > 1 char long, and the 'c' engine does not support such separators; you can avoid this warning by specifying engine='python'.\n",
      "  df = pd.read_csv(filename_app,delimiter=\"§\",error_bad_lines=False)\n",
      "Skipping line 206: Expected 5 fields in line 206, saw 6\n",
      "Skipping line 466: Expected 5 fields in line 466, saw 7\n",
      "Skipping line 597: Expected 5 fields in line 597, saw 7\n"
     ]
    }
   ],
   "source": [
    "df = pd.read_csv(filename_app,delimiter=\"§\",error_bad_lines=False)\n",
    "df.columns = columns\n",
    "df = df.drop([\"extra\"],axis=1)"
   ]
  },
  {
   "cell_type": "code",
   "execution_count": 82,
   "metadata": {},
   "outputs": [],
   "source": [
    "df['datetime'] = pd.to_datetime(df['time'], format=\"%Y-%m-%d %H:%M:%S:%f\")\n",
    "df = df.drop_duplicates().sort_values('datetime')"
   ]
  },
  {
   "cell_type": "code",
   "execution_count": 83,
   "metadata": {},
   "outputs": [
    {
     "data": {
      "text/html": [
       "<div>\n",
       "<style scoped>\n",
       "    .dataframe tbody tr th:only-of-type {\n",
       "        vertical-align: middle;\n",
       "    }\n",
       "\n",
       "    .dataframe tbody tr th {\n",
       "        vertical-align: top;\n",
       "    }\n",
       "\n",
       "    .dataframe thead th {\n",
       "        text-align: right;\n",
       "    }\n",
       "</style>\n",
       "<table border=\"1\" class=\"dataframe\">\n",
       "  <thead>\n",
       "    <tr style=\"text-align: right;\">\n",
       "      <th></th>\n",
       "      <th>time</th>\n",
       "      <th>priority</th>\n",
       "      <th>class</th>\n",
       "      <th>message</th>\n",
       "      <th>datetime</th>\n",
       "    </tr>\n",
       "  </thead>\n",
       "  <tbody>\n",
       "    <tr>\n",
       "      <th>0</th>\n",
       "      <td>2021-03-16 14:08:45:399</td>\n",
       "      <td>4</td>\n",
       "      <td>ExampleApplication</td>\n",
       "      <td>Loggers created</td>\n",
       "      <td>2021-03-16 14:08:45.399</td>\n",
       "    </tr>\n",
       "    <tr>\n",
       "      <th>1</th>\n",
       "      <td>2021-03-16 14:08:45:483</td>\n",
       "      <td>2</td>\n",
       "      <td>BluetoothOrchestrator</td>\n",
       "      <td>bluetooth Orchestrator created</td>\n",
       "      <td>2021-03-16 14:08:45.483</td>\n",
       "    </tr>\n",
       "    <tr>\n",
       "      <th>2</th>\n",
       "      <td>2021-03-16 14:08:45:625</td>\n",
       "      <td>2</td>\n",
       "      <td>MainActivity</td>\n",
       "      <td>setup BT active status: true</td>\n",
       "      <td>2021-03-16 14:08:45.625</td>\n",
       "    </tr>\n",
       "    <tr>\n",
       "      <th>3</th>\n",
       "      <td>2021-03-16 14:08:45:629</td>\n",
       "      <td>2</td>\n",
       "      <td>MainActivity</td>\n",
       "      <td>setup Location active status: true</td>\n",
       "      <td>2021-03-16 14:08:45.629</td>\n",
       "    </tr>\n",
       "    <tr>\n",
       "      <th>4</th>\n",
       "      <td>2021-03-16 14:08:45:630</td>\n",
       "      <td>2</td>\n",
       "      <td>MainActivity</td>\n",
       "      <td>setup Location permission granted: true</td>\n",
       "      <td>2021-03-16 14:08:45.630</td>\n",
       "    </tr>\n",
       "  </tbody>\n",
       "</table>\n",
       "</div>"
      ],
      "text/plain": [
       "                      time  priority                  class  \\\n",
       "0  2021-03-16 14:08:45:399         4     ExampleApplication   \n",
       "1  2021-03-16 14:08:45:483         2  BluetoothOrchestrator   \n",
       "2  2021-03-16 14:08:45:625         2           MainActivity   \n",
       "3  2021-03-16 14:08:45:629         2           MainActivity   \n",
       "4  2021-03-16 14:08:45:630         2           MainActivity   \n",
       "\n",
       "                                   message                datetime  \n",
       "0                          Loggers created 2021-03-16 14:08:45.399  \n",
       "1           bluetooth Orchestrator created 2021-03-16 14:08:45.483  \n",
       "2             setup BT active status: true 2021-03-16 14:08:45.625  \n",
       "3       setup Location active status: true 2021-03-16 14:08:45.629  \n",
       "4  setup Location permission granted: true 2021-03-16 14:08:45.630  "
      ]
     },
     "execution_count": 83,
     "metadata": {},
     "output_type": "execute_result"
    }
   ],
   "source": [
    "df.head()"
   ]
  },
  {
   "cell_type": "markdown",
   "metadata": {},
   "source": [
    "#### Read HCI Logs"
   ]
  },
  {
   "cell_type": "code",
   "execution_count": 148,
   "metadata": {
    "scrolled": true
   },
   "outputs": [
    {
     "data": {
      "text/html": [
       "<div>\n",
       "<style scoped>\n",
       "    .dataframe tbody tr th:only-of-type {\n",
       "        vertical-align: middle;\n",
       "    }\n",
       "\n",
       "    .dataframe tbody tr th {\n",
       "        vertical-align: top;\n",
       "    }\n",
       "\n",
       "    .dataframe thead th {\n",
       "        text-align: right;\n",
       "    }\n",
       "</style>\n",
       "<table border=\"1\" class=\"dataframe\">\n",
       "  <thead>\n",
       "    <tr style=\"text-align: right;\">\n",
       "      <th></th>\n",
       "      <th>No.</th>\n",
       "      <th>Source</th>\n",
       "      <th>Destination</th>\n",
       "      <th>Protocol</th>\n",
       "      <th>Length</th>\n",
       "      <th>Info</th>\n",
       "      <th>Time</th>\n",
       "      <th>datetime</th>\n",
       "    </tr>\n",
       "  </thead>\n",
       "  <tbody>\n",
       "    <tr>\n",
       "      <th>0</th>\n",
       "      <td>1068</td>\n",
       "      <td>HuaweiTe_27:59:79 (HUAWEI P20 Pro)</td>\n",
       "      <td>Espressi_60:ef:3a (ESP32-T)</td>\n",
       "      <td>ATT</td>\n",
       "      <td>16</td>\n",
       "      <td>Sent Read By Group Type Request, GATT Primary ...</td>\n",
       "      <td>2021-03-16 13:09:03,797339</td>\n",
       "      <td>2021-03-16 14:09:03.797339</td>\n",
       "    </tr>\n",
       "    <tr>\n",
       "      <th>1</th>\n",
       "      <td>1071</td>\n",
       "      <td>Espressi_60:ef:3a (ESP32-T)</td>\n",
       "      <td>HuaweiTe_27:59:79 (HUAWEI P20 Pro)</td>\n",
       "      <td>ATT</td>\n",
       "      <td>23</td>\n",
       "      <td>Rcvd Read By Group Type Response, Attribute Li...</td>\n",
       "      <td>2021-03-16 13:09:03,936946</td>\n",
       "      <td>2021-03-16 14:09:03.936946</td>\n",
       "    </tr>\n",
       "    <tr>\n",
       "      <th>2</th>\n",
       "      <td>1072</td>\n",
       "      <td>HuaweiTe_27:59:79 (HUAWEI P20 Pro)</td>\n",
       "      <td>Espressi_60:ef:3a (ESP32-T)</td>\n",
       "      <td>ATT</td>\n",
       "      <td>16</td>\n",
       "      <td>Sent Read By Group Type Request, GATT Primary ...</td>\n",
       "      <td>2021-03-16 13:09:03,937446</td>\n",
       "      <td>2021-03-16 14:09:03.937446</td>\n",
       "    </tr>\n",
       "    <tr>\n",
       "      <th>3</th>\n",
       "      <td>1074</td>\n",
       "      <td>Espressi_60:ef:3a (ESP32-T)</td>\n",
       "      <td>HuaweiTe_27:59:79 (HUAWEI P20 Pro)</td>\n",
       "      <td>ATT</td>\n",
       "      <td>31</td>\n",
       "      <td>Rcvd Read By Group Type Response, Attribute Li...</td>\n",
       "      <td>2021-03-16 13:09:04,034672</td>\n",
       "      <td>2021-03-16 14:09:04.034672</td>\n",
       "    </tr>\n",
       "    <tr>\n",
       "      <th>4</th>\n",
       "      <td>1075</td>\n",
       "      <td>HuaweiTe_27:59:79 (HUAWEI P20 Pro)</td>\n",
       "      <td>Espressi_60:ef:3a (ESP32-T)</td>\n",
       "      <td>ATT</td>\n",
       "      <td>16</td>\n",
       "      <td>Sent Read By Type Request, GATT Include Declar...</td>\n",
       "      <td>2021-03-16 13:09:04,035651</td>\n",
       "      <td>2021-03-16 14:09:04.035651</td>\n",
       "    </tr>\n",
       "  </tbody>\n",
       "</table>\n",
       "</div>"
      ],
      "text/plain": [
       "    No.                              Source  \\\n",
       "0  1068  HuaweiTe_27:59:79 (HUAWEI P20 Pro)   \n",
       "1  1071         Espressi_60:ef:3a (ESP32-T)   \n",
       "2  1072  HuaweiTe_27:59:79 (HUAWEI P20 Pro)   \n",
       "3  1074         Espressi_60:ef:3a (ESP32-T)   \n",
       "4  1075  HuaweiTe_27:59:79 (HUAWEI P20 Pro)   \n",
       "\n",
       "                          Destination Protocol  Length  \\\n",
       "0         Espressi_60:ef:3a (ESP32-T)      ATT      16   \n",
       "1  HuaweiTe_27:59:79 (HUAWEI P20 Pro)      ATT      23   \n",
       "2         Espressi_60:ef:3a (ESP32-T)      ATT      16   \n",
       "3  HuaweiTe_27:59:79 (HUAWEI P20 Pro)      ATT      31   \n",
       "4         Espressi_60:ef:3a (ESP32-T)      ATT      16   \n",
       "\n",
       "                                                Info  \\\n",
       "0  Sent Read By Group Type Request, GATT Primary ...   \n",
       "1  Rcvd Read By Group Type Response, Attribute Li...   \n",
       "2  Sent Read By Group Type Request, GATT Primary ...   \n",
       "3  Rcvd Read By Group Type Response, Attribute Li...   \n",
       "4  Sent Read By Type Request, GATT Include Declar...   \n",
       "\n",
       "                         Time                   datetime  \n",
       "0  2021-03-16 13:09:03,797339 2021-03-16 14:09:03.797339  \n",
       "1  2021-03-16 13:09:03,936946 2021-03-16 14:09:03.936946  \n",
       "2  2021-03-16 13:09:03,937446 2021-03-16 14:09:03.937446  \n",
       "3  2021-03-16 13:09:04,034672 2021-03-16 14:09:04.034672  \n",
       "4  2021-03-16 13:09:04,035651 2021-03-16 14:09:04.035651  "
      ]
     },
     "execution_count": 148,
     "metadata": {},
     "output_type": "execute_result"
    }
   ],
   "source": [
    "df_hci = pd.read_csv(filename_hci,delimiter=\",\")\n",
    "df_hci[\"datetime\"] = pd.to_datetime(df_hci[\"Time\"],format=\"%Y-%m-%d %H:%M:%S,%f\")+ pd.Timedelta(hours=1)\n",
    "df_hci.head()"
   ]
  },
  {
   "cell_type": "markdown",
   "metadata": {},
   "source": [
    "#### Helpfull functions"
   ]
  },
  {
   "cell_type": "code",
   "execution_count": 149,
   "metadata": {},
   "outputs": [],
   "source": [
    "app_map = {\n",
    "    \"onCharacteristicChanged\":\"Notify IN\",\n",
    "    \"Successfully connected\":\"CONNECTED\",\n",
    "    \"Successfully disconnected\":\"DISCONNECTED\",\n",
    "    \"onDescriptorWrite\":\"DESCRIPTOR WRITE\",\n",
    "    \"onServicesDiscovered\":\"SERVICE DISCOVERED\",\n",
    "    \"onConnectionStateChanged\":\"Connection Changed\"\n",
    "}\n",
    "def map_app_logs(message):\n",
    "    for regex, keyword in app_map.items():\n",
    "        if re.search(regex,str(message)) != None:\n",
    "            return keyword\n",
    "    return None"
   ]
  },
  {
   "cell_type": "code",
   "execution_count": 150,
   "metadata": {},
   "outputs": [],
   "source": [
    "\n",
    "\n",
    "aInB = lambda a,b:re.search(a,b)\n",
    "\n",
    "def intersection(lst1, lst2): \n",
    "    return list(set(lst1) & set(lst2))\n",
    "\n",
    "def filter_one(df,classFilter=\"\",messageFilter=\"\",priorityFilter=-1):\n",
    "    df_tmp = df.copy()\n",
    "    if(len(classFilter)>0):\n",
    "        df_tmp = df_tmp[df_tmp['class'].apply(lambda a:re.search(classFilter,a)!=None)]\n",
    "    if(len(messageFilter)>0):\n",
    "        df_tmp = df_tmp[df_tmp['message'].apply(lambda a:re.search(messageFilter,a) != None)]\n",
    "    if(priorityFilter>0):\n",
    "        df_tmp = df_tmp[df_tmp['priority'] < priorityFilter]\n",
    "    print(\"matching lines:%d of %d\"%(len(df_tmp),len(df)))\n",
    "    return df_tmp\n",
    "\n",
    "def filter_both(df,classFilter=\"\",messageFilter=\"\",inverse=False):\n",
    "    df_tmp = df.copy()\n",
    "    df_indices = df_tmp.index.values\n",
    "    if(len(classFilter)>0):\n",
    "        class_indices = df_tmp[df_tmp['class'].apply(lambda a:re.search(classFilter,str(a))!=None)].index.values\n",
    "        df_indices = intersection(class_indices,df_indices)\n",
    "    if(len(messageFilter)>0):\n",
    "        message_indices = df_tmp[df_tmp['message'].apply(lambda a:re.search(messageFilter,str(a))!=None)].index.values\n",
    "        df_indices = intersection(message_indices,df_indices)\n",
    "    if(inverse):\n",
    "        df_tmp = df_tmp.drop(df_indices)\n",
    "    else:\n",
    "        df_tmp = df_tmp.loc[df_indices]\n",
    "    print(\"matching lines:%d of %d\"%(len(df_tmp),len(df)))\n",
    "    return df_tmp\n",
    "\n",
    "def show_logs(df,show_time = True,show_class=True,show_message = True):\n",
    "    for index,line in df.iterrows():\n",
    "        complete_line=\"\"\n",
    "        if(show_time):\n",
    "            complete_line+=line[\"time\"] + \" \"\n",
    "        if(show_class):\n",
    "            complete_line+=line[\"class\"]\n",
    "        if(show_class or show_time):\n",
    "            complete_line += \": \"\n",
    "        if(show_message):\n",
    "            complete_line += line[\"message\"]\n",
    "        print(complete_line)\n",
    "        #print(\"%s %s: %s\"%(line['time'],line['class'],line['message']))\n",
    "\n",
    "def filter_no_scan(df):\n",
    "    return filter_both(df,\"BluetoothOrchestrator\",\"onScanResult\",True)\n",
    "\n",
    "def filter_on_time(df,time_start=\"01:00:00.000\",time_end=\"23:59:59.000\"):\n",
    "    pass"
   ]
  },
  {
   "cell_type": "code",
   "execution_count": 151,
   "metadata": {},
   "outputs": [],
   "source": [
    "df['type'] = df['message'].apply(lambda message:map_app_logs(message))"
   ]
  },
  {
   "cell_type": "code",
   "execution_count": 152,
   "metadata": {
    "scrolled": true
   },
   "outputs": [],
   "source": [
    "# filter_both(df,\"BluetoothConnection\\$BluetoothCallback\").sort_values(\"datetime\")['message'].values"
   ]
  },
  {
   "cell_type": "code",
   "execution_count": 153,
   "metadata": {
    "scrolled": true
   },
   "outputs": [],
   "source": [
    "#show_logs(filter_both(df,\"\",\"Successfully connected to\").sort_values(\"datetime\"))"
   ]
  },
  {
   "cell_type": "code",
   "execution_count": 154,
   "metadata": {},
   "outputs": [
    {
     "data": {
      "text/plain": [
       "{'BluetoothConnection',\n",
       " 'BluetoothConnection$Bluetooth',\n",
       " 'BluetoothConnection$BluetoothCallback',\n",
       " 'BluetoothConnection$Bluetoothagment$setupBinding',\n",
       " 'BluetoothDeviceAdapter',\n",
       " 'BluetoothDeviceAdapter$onBindViewHolder$$inlined$let$lambda',\n",
       " 'BluetoothOrchestrator',\n",
       " 'BluetoothOrchestrator$scanCallback',\n",
       " 'ConnectionDetailFr',\n",
       " 'ConnectionDetailFragment',\n",
       " 'ConnectionDetailFragment$setupBinding',\n",
       " 'ConnectionDetailFre7-b94a-9a79b366d51b) id=0x7f09012f}',\n",
       " 'ConnectionsFragment$onCreateView',\n",
       " 'ConnectionsFragment$setupBtDevicesAdapter',\n",
       " 'ConnectionsViewModel',\n",
       " 'ExampleApplication',\n",
       " 'LogableBluetoothGattCallback',\n",
       " 'MainActivity'}"
      ]
     },
     "execution_count": 154,
     "metadata": {},
     "output_type": "execute_result"
    }
   ],
   "source": [
    "set(df[\"class\"].values)"
   ]
  },
  {
   "cell_type": "markdown",
   "metadata": {},
   "source": [
    "## Filter Logs on important information\n",
    "* Class\n",
    "* Message content\n",
    "* Time"
   ]
  },
  {
   "cell_type": "markdown",
   "metadata": {},
   "source": [
    "### Test"
   ]
  },
  {
   "cell_type": "code",
   "execution_count": 155,
   "metadata": {
    "scrolled": false
   },
   "outputs": [
    {
     "name": "stdout",
     "output_type": "stream",
     "text": [
      "matching lines:390 of 445\n",
      "matching lines:72 of 390\n",
      "matching lines:49 of 72\n"
     ]
    },
    {
     "data": {
      "text/html": [
       "<div>\n",
       "<style scoped>\n",
       "    .dataframe tbody tr th:only-of-type {\n",
       "        vertical-align: middle;\n",
       "    }\n",
       "\n",
       "    .dataframe tbody tr th {\n",
       "        vertical-align: top;\n",
       "    }\n",
       "\n",
       "    .dataframe thead th {\n",
       "        text-align: right;\n",
       "    }\n",
       "</style>\n",
       "<table border=\"1\" class=\"dataframe\">\n",
       "  <thead>\n",
       "    <tr style=\"text-align: right;\">\n",
       "      <th></th>\n",
       "      <th>datetime</th>\n",
       "      <th>addr</th>\n",
       "      <th>type</th>\n",
       "    </tr>\n",
       "  </thead>\n",
       "  <tbody>\n",
       "    <tr>\n",
       "      <th>642</th>\n",
       "      <td>2021-03-16 14:09:15.885</td>\n",
       "      <td>24:0A:C4:61:78:D2</td>\n",
       "      <td>Notify IN</td>\n",
       "    </tr>\n",
       "    <tr>\n",
       "      <th>776</th>\n",
       "      <td>2021-03-16 14:09:29.875</td>\n",
       "      <td>24:0A:C4:61:78:D2</td>\n",
       "      <td>Notify IN</td>\n",
       "    </tr>\n",
       "    <tr>\n",
       "      <th>779</th>\n",
       "      <td>2021-03-16 14:09:30.169</td>\n",
       "      <td>24:0A:C4:60:EF:3A</td>\n",
       "      <td>Notify IN</td>\n",
       "    </tr>\n",
       "    <tr>\n",
       "      <th>654</th>\n",
       "      <td>2021-03-16 14:09:16.377</td>\n",
       "      <td>24:0A:C4:61:78:D2</td>\n",
       "      <td>Notify IN</td>\n",
       "    </tr>\n",
       "    <tr>\n",
       "      <th>662</th>\n",
       "      <td>2021-03-16 14:09:16.909</td>\n",
       "      <td>24:0A:C4:61:78:D2</td>\n",
       "      <td>Notify IN</td>\n",
       "    </tr>\n",
       "  </tbody>\n",
       "</table>\n",
       "</div>"
      ],
      "text/plain": [
       "                   datetime               addr       type\n",
       "642 2021-03-16 14:09:15.885  24:0A:C4:61:78:D2  Notify IN\n",
       "776 2021-03-16 14:09:29.875  24:0A:C4:61:78:D2  Notify IN\n",
       "779 2021-03-16 14:09:30.169  24:0A:C4:60:EF:3A  Notify IN\n",
       "654 2021-03-16 14:09:16.377  24:0A:C4:61:78:D2  Notify IN\n",
       "662 2021-03-16 14:09:16.909  24:0A:C4:61:78:D2  Notify IN"
      ]
     },
     "execution_count": 155,
     "metadata": {},
     "output_type": "execute_result"
    }
   ],
   "source": [
    "#Notify Packets in App:\n",
    "all_notify_logs = filter_both(filter_both(filter_no_scan(df),\"BluetoothCallback\",\"24:0A:C4:61:78:D2|24:0A:C4:60:EF:3A|24:0A:C4:60:E5:D2\").sort_values(\"datetime\"),\"\",\"onCharacteristicChanged\")\n",
    "all_notify_logs['addr'] = all_notify_logs['message'].apply(lambda a:a[:17])\n",
    "app_logs_df = all_notify_logs.copy()[[\"datetime\",\"addr\",\"type\"]]\n",
    "app_logs_df.head()\n"
   ]
  },
  {
   "cell_type": "code",
   "execution_count": 156,
   "metadata": {},
   "outputs": [],
   "source": [
    "addresses = [\"24:0A:C4:61:78:D2\",\"24:0A:C4:60:EF:3A\",\"24:0A:C4:60:E5:D2\"]\n",
    "def map_src(src):\n",
    "    for address in addresses:\n",
    "        if re.search(address[-8:].lower(),src)!=None:\n",
    "            return address\n",
    "    return None\n",
    "\n",
    "hci_map = {\n",
    "    \"Rcvd Handle Value\":\"HCI Notify IN\",\n",
    "    \"Sent Write Request\":\"HCI Write Request\",\n",
    "    \"Rcvd Write Response\":\"HCI Write Response\"\n",
    "}\n",
    "def map_info(info):\n",
    "    for regex, keyword in hci_map.items():\n",
    "        if re.search(regex,str(info)) != None:\n",
    "            return keyword\n",
    "    return None\n",
    "\n",
    "def map_direction(info):\n",
    "    if info.lower().startswith(\"rcvd\"):\n",
    "        return \"Received\"\n",
    "    else:\n",
    "        return \"Sent\""
   ]
  },
  {
   "cell_type": "code",
   "execution_count": 157,
   "metadata": {},
   "outputs": [],
   "source": [
    "df_hci_tmp = df_hci.copy()\n",
    "df_hci_tmp[\"addr\"] = df_hci_tmp[\"Source\"].apply(lambda src:map_src(src))\n",
    "df_hci_tmp[\"direction\"] = df_hci_tmp[\"Info\"].apply(lambda info:map_direction(info))\n",
    "df_hci_tmp[\"type\"] = df_hci_tmp[\"Info\"].apply(lambda info:map_info(info))\n",
    "hci_logs_df = df_hci_tmp[[\"datetime\",\"addr\",\"type\"]]"
   ]
  },
  {
   "cell_type": "code",
   "execution_count": 159,
   "metadata": {},
   "outputs": [
    {
     "name": "stdout",
     "output_type": "stream",
     "text": [
      "51 49\n"
     ]
    }
   ],
   "source": [
    "hci_notify_logs = hci_logs_df[hci_logs_df[\"type\"] == \"HCI Notify IN\"]\n",
    "\n",
    "print(len(hci_notify_logs),len(app_logs_df))\n",
    "all_notify_logs = pd.concat([hci_notify_logs,app_logs_df])"
   ]
  },
  {
   "cell_type": "code",
   "execution_count": 162,
   "metadata": {},
   "outputs": [],
   "source": [
    "first_date = all_notify_logs.sort_values(\"datetime\")[\"datetime\"].values[0]\n",
    "all_notify_logs[\"date index\"] = all_notify_logs[\"datetime\"].apply(lambda time:time-first_date)"
   ]
  },
  {
   "cell_type": "code",
   "execution_count": 163,
   "metadata": {},
   "outputs": [
    {
     "data": {
      "text/html": [
       "<div>\n",
       "<style scoped>\n",
       "    .dataframe tbody tr th:only-of-type {\n",
       "        vertical-align: middle;\n",
       "    }\n",
       "\n",
       "    .dataframe tbody tr th {\n",
       "        vertical-align: top;\n",
       "    }\n",
       "\n",
       "    .dataframe thead th {\n",
       "        text-align: right;\n",
       "    }\n",
       "</style>\n",
       "<table border=\"1\" class=\"dataframe\">\n",
       "  <thead>\n",
       "    <tr style=\"text-align: right;\">\n",
       "      <th></th>\n",
       "      <th>datetime</th>\n",
       "      <th>addr</th>\n",
       "      <th>type</th>\n",
       "      <th>date index</th>\n",
       "    </tr>\n",
       "  </thead>\n",
       "  <tbody>\n",
       "    <tr>\n",
       "      <th>86</th>\n",
       "      <td>2021-03-16 14:09:13.295300</td>\n",
       "      <td>24:0A:C4:61:78:D2</td>\n",
       "      <td>HCI Notify IN</td>\n",
       "      <td>0 days 00:00:00</td>\n",
       "    </tr>\n",
       "    <tr>\n",
       "      <th>87</th>\n",
       "      <td>2021-03-16 14:09:13.782484</td>\n",
       "      <td>24:0A:C4:61:78:D2</td>\n",
       "      <td>HCI Notify IN</td>\n",
       "      <td>0 days 00:00:00.487184</td>\n",
       "    </tr>\n",
       "    <tr>\n",
       "      <th>88</th>\n",
       "      <td>2021-03-16 14:09:14.318829</td>\n",
       "      <td>24:0A:C4:61:78:D2</td>\n",
       "      <td>HCI Notify IN</td>\n",
       "      <td>0 days 00:00:01.023529</td>\n",
       "    </tr>\n",
       "    <tr>\n",
       "      <th>89</th>\n",
       "      <td>2021-03-16 14:09:14.854835</td>\n",
       "      <td>24:0A:C4:61:78:D2</td>\n",
       "      <td>HCI Notify IN</td>\n",
       "      <td>0 days 00:00:01.559535</td>\n",
       "    </tr>\n",
       "    <tr>\n",
       "      <th>90</th>\n",
       "      <td>2021-03-16 14:09:15.342939</td>\n",
       "      <td>24:0A:C4:61:78:D2</td>\n",
       "      <td>HCI Notify IN</td>\n",
       "      <td>0 days 00:00:02.047639</td>\n",
       "    </tr>\n",
       "    <tr>\n",
       "      <th>...</th>\n",
       "      <td>...</td>\n",
       "      <td>...</td>\n",
       "      <td>...</td>\n",
       "      <td>...</td>\n",
       "    </tr>\n",
       "    <tr>\n",
       "      <th>760</th>\n",
       "      <td>2021-03-16 14:09:28.854000</td>\n",
       "      <td>24:0A:C4:61:78:D2</td>\n",
       "      <td>Notify IN</td>\n",
       "      <td>0 days 00:00:15.558700</td>\n",
       "    </tr>\n",
       "    <tr>\n",
       "      <th>762</th>\n",
       "      <td>2021-03-16 14:09:29.390000</td>\n",
       "      <td>24:0A:C4:61:78:D2</td>\n",
       "      <td>Notify IN</td>\n",
       "      <td>0 days 00:00:16.094700</td>\n",
       "    </tr>\n",
       "    <tr>\n",
       "      <th>635</th>\n",
       "      <td>2021-03-16 14:09:14.860000</td>\n",
       "      <td>24:0A:C4:61:78:D2</td>\n",
       "      <td>Notify IN</td>\n",
       "      <td>0 days 00:00:01.564700</td>\n",
       "    </tr>\n",
       "    <tr>\n",
       "      <th>764</th>\n",
       "      <td>2021-03-16 14:09:29.587000</td>\n",
       "      <td>24:0A:C4:60:E5:D2</td>\n",
       "      <td>Notify IN</td>\n",
       "      <td>0 days 00:00:16.291700</td>\n",
       "    </tr>\n",
       "    <tr>\n",
       "      <th>639</th>\n",
       "      <td>2021-03-16 14:09:15.352000</td>\n",
       "      <td>24:0A:C4:61:78:D2</td>\n",
       "      <td>Notify IN</td>\n",
       "      <td>0 days 00:00:02.056700</td>\n",
       "    </tr>\n",
       "  </tbody>\n",
       "</table>\n",
       "<p>100 rows × 4 columns</p>\n",
       "</div>"
      ],
      "text/plain": [
       "                      datetime               addr           type  \\\n",
       "86  2021-03-16 14:09:13.295300  24:0A:C4:61:78:D2  HCI Notify IN   \n",
       "87  2021-03-16 14:09:13.782484  24:0A:C4:61:78:D2  HCI Notify IN   \n",
       "88  2021-03-16 14:09:14.318829  24:0A:C4:61:78:D2  HCI Notify IN   \n",
       "89  2021-03-16 14:09:14.854835  24:0A:C4:61:78:D2  HCI Notify IN   \n",
       "90  2021-03-16 14:09:15.342939  24:0A:C4:61:78:D2  HCI Notify IN   \n",
       "..                         ...                ...            ...   \n",
       "760 2021-03-16 14:09:28.854000  24:0A:C4:61:78:D2      Notify IN   \n",
       "762 2021-03-16 14:09:29.390000  24:0A:C4:61:78:D2      Notify IN   \n",
       "635 2021-03-16 14:09:14.860000  24:0A:C4:61:78:D2      Notify IN   \n",
       "764 2021-03-16 14:09:29.587000  24:0A:C4:60:E5:D2      Notify IN   \n",
       "639 2021-03-16 14:09:15.352000  24:0A:C4:61:78:D2      Notify IN   \n",
       "\n",
       "                date index  \n",
       "86         0 days 00:00:00  \n",
       "87  0 days 00:00:00.487184  \n",
       "88  0 days 00:00:01.023529  \n",
       "89  0 days 00:00:01.559535  \n",
       "90  0 days 00:00:02.047639  \n",
       "..                     ...  \n",
       "760 0 days 00:00:15.558700  \n",
       "762 0 days 00:00:16.094700  \n",
       "635 0 days 00:00:01.564700  \n",
       "764 0 days 00:00:16.291700  \n",
       "639 0 days 00:00:02.056700  \n",
       "\n",
       "[100 rows x 4 columns]"
      ]
     },
     "execution_count": 163,
     "metadata": {},
     "output_type": "execute_result"
    }
   ],
   "source": [
    "all_notify_logs"
   ]
  },
  {
   "cell_type": "code",
   "execution_count": 283,
   "metadata": {
    "scrolled": false
   },
   "outputs": [
    {
     "data": {
      "image/png": "[encoded data removed]",
      "text/plain": [
       "<Figure size 864x216 with 1 Axes>"
      ]
     },
     "metadata": {
      "needs_background": "light"
     },
     "output_type": "display_data"
    }
   ],
   "source": [
    "min_date, max_date = all_notify_logs[\"datetime\"].min(), all_notify_logs[\"datetime\"].max()\n",
    "fig, ax = plt.subplots(figsize=(12,3))\n",
    "for index,addr in enumerate(list(set(all_notify_logs[\"addr\"].values))):\n",
    "    index +=1\n",
    "    logs_for_addr = all_notify_logs[all_notify_logs[\"addr\"] == addr]\n",
    "    app_logs = logs_for_addr[logs_for_addr[\"type\"] == \"Notify IN\"][\"datetime\"].values\n",
    "    hci_logs = logs_for_addr[logs_for_addr[\"type\"] == \"HCI Notify IN\"][\"datetime\"].values\n",
    "    data = matplotlib.dates.date2num(app_logs)\n",
    "    data_2 = matplotlib.dates.date2num(app_logs)\n",
    "    plt.plot_date(data,[index]*len(data),marker=\"^\",label=\"%s-APP\"%addr)\n",
    "    plt.plot_date(data_2,[-1*(index)]*len(data_2),marker=\"^\",label=\"%s-HCI\"%addr)\n",
    "ax.xaxis.set_major_formatter(matplotlib.dates.DateFormatter('%m:%S'))\n",
    "fig.suptitle(\"%s\"%(min_date.strftime(\"%H:%m\")))\n",
    "ax.spines['top'].set_color('none')\n",
    "ax.spines['right'].set_color('none')\n",
    "ax.spines['left'].set_color('none')\n",
    "ax.spines['bottom'].set_position('zero')\n",
    "ax.tick_params(axis='x', length=10)\n",
    "plt.tight_layout()\n",
    "plt.show()"
   ]
  },
  {
   "cell_type": "code",
   "execution_count": null,
   "metadata": {},
   "outputs": [],
   "source": []
  }
 ],
 "metadata": {
  "kernelspec": {
   "display_name": "Python 3",
   "language": "python",
   "name": "python3"
  },
  "language_info": {
   "codemirror_mode": {
    "name": "ipython",
    "version": 3
   },
   "file_extension": ".py",
   "mimetype": "text/x-python",
   "name": "python",
   "nbconvert_exporter": "python",
   "pygments_lexer": "ipython3",
   "version": "3.8.5"
  }
 },
 "nbformat": 4,
 "nbformat_minor": 4
}
